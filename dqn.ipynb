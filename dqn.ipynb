{
 "cells": [
  {
   "cell_type": "markdown",
   "metadata": {},
   "source": [
    "## Recreate DQN model from Deepmind Atari paper\n",
    "\n",
    "References:   \n",
    "Paper: https://arxiv.org/pdf/1312.5602.pdf    \n",
    "Pytorch tutorial: https://pytorch.org/tutorials/intermediate/reinforcement_q_learning.html"
   ]
  },
  {
   "cell_type": "markdown",
   "metadata": {},
   "source": [
    "### Dependencies\n",
    "gym==0.21.0     \n",
    "torch==2.1.0.dev20230526"
   ]
  },
  {
   "cell_type": "code",
   "execution_count": 1,
   "metadata": {},
   "outputs": [],
   "source": [
    "# import relevant packages\n",
    "import torch\n",
    "from collections import namedtuple, deque\n",
    "import random\n",
    "from torch import nn\n",
    "from torch import optim\n",
    "import torch.nn.functional as F\n",
    "import matplotlib.pyplot as plt \n",
    "import gym\n",
    "import pandas as pd\n",
    "import numpy as np\n",
    "import cv2\n",
    "import os\n",
    "from tqdm import tqdm\n",
    "from torch.utils.tensorboard import SummaryWriter"
   ]
  },
  {
   "cell_type": "markdown",
   "metadata": {},
   "source": [
    "### Experience Replay   \n",
    "Data structure to store past experiences and sample some examples for training, the idea is to ***\"alleviate the problems of correlated data and non-stationary distributions\"***"
   ]
  },
  {
   "cell_type": "code",
   "execution_count": 2,
   "metadata": {},
   "outputs": [],
   "source": [
    "# Use named tuple to represent Experience referred in paper\n",
    "Experience = namedtuple('Experience', [\"state\", \"action\", \"reward\", \"successor\", \"done\"])\n",
    "\n",
    "class ReplayMemory():\n",
    "    def __init__(self, capacity):\n",
    "        self.memory = deque([], maxlen=capacity)\n",
    "        \n",
    "    def push(self, *args):\n",
    "        \"\"\"add new experience\"\"\"\n",
    "        self.memory.append(Experience(*args))\n",
    "        \n",
    "    def sample(self, batch_size):\n",
    "        \"\"\"randomly sample experiences from Replay Memory\"\"\"\n",
    "        return random.sample(self.memory, batch_size)\n",
    "    \n",
    "    def __len__(self):\n",
    "        \"\"\"Override default len() method\"\"\"\n",
    "        return len(self.memory)"
   ]
  },
  {
   "cell_type": "markdown",
   "metadata": {},
   "source": [
    "### Training Model  \n",
    "Build model based on the paper's description \n",
    "> The input to the neural network consists is an 84 × 84 × 4 image produced by φ. The first hidden layer convolves **16 8 × 8 filters with stride 4** with the input image and applies a **rectifier nonlinearity**. The second hidden layer convolves **32 4 × 4 filters with stride 2**, again followed by a **rectifier nonlinearity**. The final hidden layer is fully-connected and consists of **256 rectifier units**. The output layer is a fully- connected linear layer with a **single output for each valid action**."
   ]
  },
  {
   "cell_type": "code",
   "execution_count": 3,
   "metadata": {},
   "outputs": [],
   "source": [
    "class DQN_model(nn.Module):\n",
    "    def __init__(self, input_shape, n_actions):\n",
    "        super(DQN_model, self).__init__()\n",
    "        self.layer1 = nn.Conv2d(input_shape[0], 16, kernel_size=(8,8), stride=4)\n",
    "        self.layer2 = nn.Conv2d(16, 32, (4,4), stride=2)\n",
    "        # output shape after EACH convo would be ((dimension - filter size)/stride +1) **2 (for 2 sides)\n",
    "                                                                            # * 4 (stack) * output_channel\n",
    "        dim_size = (((84-8)/4 + 1)-4)/2+1\n",
    "        self.layer3 = nn.Linear(int((dim_size)**2 * 32), 256)\n",
    "        self.output = nn.Linear(256, n_actions) \n",
    "        \n",
    "    def forward(self, x):\n",
    "        x = F.relu(self.layer1(x))\n",
    "        x = F.relu(self.layer2(x))\n",
    "        x = torch.flatten(x, start_dim=1)\n",
    "        x = F.relu(self.layer3(x))\n",
    "        x = self.output(x)\n",
    "        \n",
    "        return x"
   ]
  },
  {
   "cell_type": "markdown",
   "metadata": {},
   "source": [
    "### Prepare environment   \n",
    "The paper specifies several preprocessing steps to apply to the raw frames\n",
    ">210 × 160 pixel images with a 128 color palette, can be computationally demanding, so we apply a basic preprocessing step aimed at reducing the input dimensionality. The raw frames are preprocessed by first converting their RGB representation to **gray-scale** and **down-sampling it to a 110×84 image**. The final input representation is obtained by cropping an 84 × 84 region of the image that roughly captures the playing area.\n",
    "\n",
    "Using gym, we can apply **GrayScaleObservation** wrapper to get gray-scale representation, and instead of cropping to game play section, a **resize wrapper** is applied\n",
    "\n",
    "<br>\n",
    "\n",
    "> For the experiments in this paper, the function φ from algorithm 1 applies this preprocessing to the **last 4 frames of a history and stacks them** to produce the input to the Q-function.\n",
    "\n",
    "For this, we can apply **FrameStack** wrapper to get a stacks of 4 frames\n",
    "\n",
    "<br>\n",
    "\n",
    "> Since the scale of scores varies greatly from game to game, we fixed all positive rewards to be 1 and all negative rewards to be −1, leaving 0 rewards unchanged.\n",
    "\n",
    "\n",
    "Lastly, we can apply **ClipReward** wrapper to crop reward to specified range\n",
    "<br>"
   ]
  },
  {
   "cell_type": "code",
   "execution_count": 4,
   "metadata": {
    "scrolled": false
   },
   "outputs": [
    {
     "name": "stdout",
     "output_type": "stream",
     "text": [
      "Observation shape:  (4, 84, 84)\n"
     ]
    },
    {
     "name": "stderr",
     "output_type": "stream",
     "text": [
      "A.L.E: Arcade Learning Environment (version 0.7.4+069f8bd)\n",
      "[Powered by Stella]\n"
     ]
    },
    {
     "data": {
      "image/png": "[encoded data removed]",
      "text/plain": [
       "<Figure size 1000x1000 with 4 Axes>"
      ]
     },
     "metadata": {},
     "output_type": "display_data"
    },
    {
     "name": "stdout",
     "output_type": "stream",
     "text": [
      "Low value 0.0 - High value 0.5803921818733215\n"
     ]
    }
   ],
   "source": [
    "from gym.wrappers import GrayScaleObservation, ResizeObservation, FrameStack, TransformObservation\n",
    "\n",
    "# Wrapper to clip reward, taken from documentation\n",
    "class ClipReward(gym.RewardWrapper):\n",
    "    def __init__(self, env, min_reward, max_reward):\n",
    "        super().__init__(env)\n",
    "        self.min_reward = min_reward\n",
    "        self.max_reward = max_reward\n",
    "        self.reward_range = (min_reward, max_reward)\n",
    "    \n",
    "    def reward(self, reward):\n",
    "        return np.clip(reward, self.min_reward, self.max_reward)\n",
    "    \n",
    "# observation wrapper for cropping\n",
    "class AtariCropping(gym.ObservationWrapper):\n",
    "    def __init__(self, env):\n",
    "        \"\"\"A gym wrapper that crops image\"\"\"\n",
    "        super().__init__(env)\n",
    "        \n",
    "        old_shape = env.observation_space.shape\n",
    "        # get new shape after cropping\n",
    "        new_shape = (old_shape[0]-50,) + old_shape[1:]\n",
    "        self.observation_space = gym.spaces.Box(low=0, high=255, shape=new_shape)\n",
    "\n",
    "    def observation(self, img):\n",
    "        \"\"\"what happens to each observation\"\"\"\n",
    "        # crop image (top and bottom, top from 34, bottom remove last 16)\n",
    "        img = img[34:-16, :, :]\n",
    "        return img\n",
    "    \n",
    "class RescaleRange(gym.ObservationWrapper):\n",
    "    def __init__(self, env):\n",
    "        \"\"\"A gym wrapper that rescale low and high value\"\"\"\n",
    "        super().__init__(env)\n",
    "        self.observation_space = gym.spaces.Box(low=0, high=1, shape=env.observation_space.shape)\n",
    "\n",
    "    def observation(self, img):\n",
    "        \"\"\"what happens to each observation\"\"\"\n",
    "        # rescale value from range 0-255 to 0-1\n",
    "        img = img.astype('float32') / 255.   \n",
    "        return img\n",
    "\n",
    "def generate_env(env_name):\n",
    "    env = gym.make(env_name)\n",
    "    env = ClipReward(env, -1, 1)\n",
    "    env = AtariCropping(env)\n",
    "    # gray scale frame\n",
    "    env = GrayScaleObservation(env, keep_dim=False)\n",
    "    env = RescaleRange(env)\n",
    "    # resize frame to 84×84 image\n",
    "    env = ResizeObservation(env, (84, 84))\n",
    "    # stack 4 frames (equivalent to what phi does in paper) \n",
    "    env = FrameStack(env, num_stack=4)\n",
    "    \n",
    "    return env\n",
    "    \n",
    "env = generate_env(\"BreakoutDeterministic-v4\")\n",
    "env.reset()\n",
    "observation, reward, done, _ = env.step(env.action_space.sample())\n",
    "print(\"Observation shape: \", env.observation_space.shape)\n",
    "\n",
    "# visualize frames in each step \n",
    "_, axs = plt.subplots(1, 4, figsize=(10,10))\n",
    "for i, image in enumerate(observation):\n",
    "    axs[i].imshow(image, cmap=plt.cm.binary)\n",
    "plt.show()\n",
    "\n",
    "print(f\"Low value {np.min(np.asarray(observation))} - High value {np.max(np.asarray(observation))}\")"
   ]
  },
  {
   "cell_type": "markdown",
   "metadata": {},
   "source": [
    "### Function to determine action\n",
    "Apply $\\epsilon$ greedy algorithm to choose action   \n",
    "* Choose random action at probability $\\epsilon$\n",
    "* Choose optimal action (determined by model) at probability (1-$\\epsilon$)"
   ]
  },
  {
   "cell_type": "code",
   "execution_count": 5,
   "metadata": {},
   "outputs": [],
   "source": [
    "import random\n",
    "\n",
    "def choose_action(model, state, device, epsilon=0.001):\n",
    "    if random.random()<=epsilon: #exploration\n",
    "        return env.action_space.sample()\n",
    "    else:\n",
    "        with torch.no_grad():\n",
    "    #         squeeze to remove last dim of 1 (for gray scaled val) and add 1 dim at first (1 input instead of batch)\n",
    "            state = torch.Tensor(state).squeeze().unsqueeze(0).to(device)\n",
    "            # predict\n",
    "            pred = model(state)\n",
    "            return int(torch.argmax(pred.squeeze()).item())"
   ]
  },
  {
   "cell_type": "markdown",
   "metadata": {},
   "source": [
    "### Loss function  \n",
    "As mentioned in the paper, the function to optimize would be the following\n",
    "> $$L_i(θ_i) = E_{s,a∼ρ(·)} [(y_i − Q (s, a; θ_i))]^2 $$\n",
    "> where: $$y_i = E_{s′∼\\mathcal{E}} [r + γ max_{a′} Q(s′, a′; θ_{i−1})|s, a]$$\n",
    "\n",
    "Notation translation:\n",
    "- θ refers to weights of model, $θ_i$ refers to model (with weights) at iteration i\n",
    "- $Q (s, a; θ_i)$ (prediction) is Q value at (s, a) estimated by model\n",
    "- $y_i$ (target function) is calculated using Bellman equation, but future reward (aka Q(s', a')) is (again) estimated by the model\n",
    "\n",
    "Code translation:\n",
    "- $Q (s, a; θ_i)$ is calculated by plug in state for model to predict, and get the output at action a (state and action sampled from experience replay)\n",
    "- $max_{a′} Q(s′, a′; θ_{i−1}$ in $y_i$ is calculated by plug in successor state, then get the max output out of all actions\n",
    "- loss is square root of $y_i$ (expected Q) - $Q (s, a; θ_i)$ (prediction)"
   ]
  },
  {
   "cell_type": "code",
   "execution_count": 6,
   "metadata": {},
   "outputs": [],
   "source": [
    "def loss_fn(model, replay_memory, batch_size, discount, target_model=None, device=\"mps\"):\n",
    "    batch = replay_memory.sample(batch_size)\n",
    "\n",
    "#     Transpose batch, ref: https://stackoverflow.com/questions/19339/transpose-unzip-function-inverse-of-zip/19343#19343\n",
    "    batch = Experience(*zip(*batch))\n",
    "    \n",
    "#     convert to a single np.array for faster tensor conversion\n",
    "    state = np.array(batch.state)\n",
    "    successor = np.array(batch.successor)\n",
    "            \n",
    "    # Tensor-ify state, action, reward, successor, done (use torch tensor to have grad)\n",
    "    state = torch.Tensor(state).squeeze().to(device)\n",
    "    action = torch.Tensor(batch.action).to(device)\n",
    "    reward = torch.Tensor(batch.reward).to(device)\n",
    "    successor = torch.Tensor(successor).squeeze().to(device)\n",
    "    done = torch.tensor(batch.done, dtype=torch.int32).to(device)\n",
    "\n",
    "    # use model to get old qs and successor qs\n",
    "    old_qs = model(state)\n",
    "    # if target model is provided -> use that to compute successor instead\n",
    "    successor_qs = model(successor) if target_model is None else target_model(successor) \n",
    "    \n",
    "#   check for exploding/diminissing problem\n",
    "#     print(torch.isnan(old_qs).any())\n",
    "        \n",
    "    # get the list of actions in shape 1xbatch_size, and use it as indices for old_qs\n",
    "    action = action.unsqueeze(1).type(torch.int64)\n",
    "    # get predicted qs at action, return tensor of list of batch_size items\n",
    "    old_qs = old_qs.gather(1, action).squeeze()\n",
    "    # get max q in successor to estimate future reward\n",
    "    successor_qs = successor_qs.max(1)[0]\n",
    "            \n",
    "    # compute expected qs\n",
    "    # multiplying (1-done) would result in not adding future reward when at end state (done==1)\n",
    "    expected_qs = reward + successor_qs*discount*(1-done)\n",
    "    expected_qs = expected_qs.detach() # shouldnt include this in grad graph\n",
    "        \n",
    "    # compute loss, return mean loss of batch \n",
    "    loss = (expected_qs-old_qs).pow(2).mean()\n",
    "    \n",
    "#     print(\"Old Qs \", old_qs)\n",
    "#     print(\"Expected Qs \", expected_qs)\n",
    "#     print(\"Loss \", loss.item())\n",
    "    \n",
    "    # improvement for stability - use different loss \n",
    "    # loss_func = nn.HuberLoss()\n",
    "    # loss = loss_func(old_qs, expected_qs)\n",
    "    \n",
    "    return loss"
   ]
  },
  {
   "cell_type": "markdown",
   "metadata": {},
   "source": [
    "### Evaluation \n",
    "Evaluate model by let model plays in the env in 10000 steps, and return **average reward** and **predicted Q** value of a <u>held out set of states</u> "
   ]
  },
  {
   "cell_type": "code",
   "execution_count": 9,
   "metadata": {},
   "outputs": [],
   "source": [
    "from IPython import display\n",
    "def generate_eval_states(env, no_states=1000, device=\"mps\"):\n",
    "    # TO BE MODIFIED\n",
    "    states = [np.asarray(env.observation_space.sample()) for i in no_states]\n",
    "    states = torch.Tensor(np.array(states)).squeeze().to(device)\n",
    "    return states\n",
    "\n",
    "def eval_model(model, env_id, eval_steps=10000, device=\"mps\"):\n",
    "    env=generate_env(env_id)\n",
    "    curr_state = env.reset()\n",
    "    curr_state = np.asarray(curr_state)\n",
    "    \n",
    "    episode_rewards = [0]\n",
    "    \n",
    "    for i in range(eval_steps):\n",
    "        action = choose_action(model, curr_state, device, epsilon=0.05)\n",
    "        \n",
    "        observation, reward, done, _ = env.step(action)\n",
    "        observation = np.asarray(observation) #convert to np array\n",
    "        \n",
    "        episode_rewards[-1]+=reward\n",
    "        curr_state = observation\n",
    "        \n",
    "        if done:\n",
    "            # end of episode -> reset env, create new total reward for episode\n",
    "            curr_state = env.reset()\n",
    "            curr_state = np.asarray(curr_state)\n",
    "            episode_rewards.append(0)\n",
    "            \n",
    "    # calculate mean episode\n",
    "    episode_reward = np.array(episode_rewards)\n",
    "    return np.mean(episode_reward)\n",
    "        \n",
    "def plotting_util(xs, ys, avg_range=None):\n",
    "    # plotting xs and ys\n",
    "    # plot mean value of ys each avg_range step if avg_arange is provided (used to smooth out plot)\n",
    "    \n",
    "    if avg_range is not None:\n",
    "        assert avg_range %len(xs)==0\n",
    "        assert avg_range>0\n",
    "        \n",
    "        # create torch of size (n, avg_range) and find mean along each row (colapse shape[1])\n",
    "        ys = torch.tensor(ys).view(-1, avg_range).mean(1)\n",
    "        \n",
    "        # colapse y to match new xs\n",
    "        xs = torch.tensor(xs).view(-1, avg_range).max(1)[0]\n",
    "    display.clear_output(wait=True)\n",
    "    plt.plot(xs, ys)"
   ]
  },
  {
   "cell_type": "markdown",
   "metadata": {},
   "source": [
    "### Parameters"
   ]
  },
  {
   "cell_type": "code",
   "execution_count": 11,
   "metadata": {},
   "outputs": [],
   "source": [
    "# ------- Set up parameters -------\n",
    "ENV = \"BreakoutDeterministic-v4\"\n",
    "LOG_FREQ = 20 #number of EPISODES in-between logging results \n",
    "EVAL_FREQ = 50000 #number of STEPS before evaluate model\n",
    "CHECKPOINT_FREQ = 100000 #number of STEPS before saving model\n",
    "SAVE_DIR = \"Breakout\" #directory to save stuffs\n",
    "\n",
    "# ------ Hyper parameters ---------\n",
    "LEARNING_RATE = 0.00001 if ENV == \"BreakoutDeterministic-v4\" else 0.00025\n",
    "REPLAY_LEN = 100000 # 1000000 in paper, but I still like mah laptop, so no\n",
    "BATCH_SIZE = 32\n",
    "EPISODES = 16000\n",
    "DISCOUNT = 0.99 #aka gamma in Bellman's equation\n",
    "START_EPSILON= 1\n",
    "END_EPSILON= 0.1\n",
    "DECAY_STEPS=1000000 # steps to decay epsilon\n",
    "USE_TARGET_MODEL=True # whether to have target model or not\n",
    "UPDATE_TARGET=1000 #steps to run before updating the target model"
   ]
  },
  {
   "cell_type": "markdown",
   "metadata": {},
   "source": [
    "### Setting up variables before training"
   ]
  },
  {
   "cell_type": "code",
   "execution_count": 12,
   "metadata": {},
   "outputs": [
    {
     "name": "stdout",
     "output_type": "stream",
     "text": [
      "Device: mps\n",
      "Current Atari environment: BreakoutDeterministic-v4\n",
      "Learning rate: 1e-05\n",
      "Initial length of replay memory: 32\n",
      "Breakout/tensorboard_runs/ created\n",
      "Start Tensorboard by running this command from project folder: tensorboard --logdir=\"Breakout/tensorboard_runs\"\n"
     ]
    }
   ],
   "source": [
    "# ------- Set up device, check for mps, cuda or cpu -----------\n",
    "device = torch.device(\"mps\" if torch.backends.mps.is_available() else \"cuda\" if torch.cuda.is_available() else \"cpu\")\n",
    "print(f\"Device: {device}\")\n",
    "\n",
    "# ------- Set up env ----------------\n",
    "env = generate_env(ENV)\n",
    "print(f\"Current Atari environment: {ENV}\")\n",
    "print(f\"Learning rate: {LEARNING_RATE}\")\n",
    "\n",
    "# ------- Set up model ----------------\n",
    "model = DQN_model(env.observation_space.shape, env.action_space.n).to(device)\n",
    "target_model = None\n",
    "if USE_TARGET_MODEL:\n",
    "    target_model = DQN_model(env.observation_space.shape, env.action_space.n).to(device)\n",
    "    target_model.load_state_dict(model.state_dict())\n",
    "\n",
    "# ------- Set up optimizer ----------------\n",
    "# optimizer based on paper\n",
    "# optimizer = optim.RMSprop(model.parameters(), lr=LEARNING_RATE)\n",
    "\n",
    "# optimizer for first training (not-so-happy accident =)))\n",
    "# optimizer = optim.SGD(model.parameters(), lr=LEARNING_RATE)\n",
    "\n",
    "# recommended (less computational heavy compared to RMSprop)\n",
    "optimizer = optim.Adam(model.parameters(), lr=LEARNING_RATE)\n",
    "\n",
    "# ------- Set up stats tracker ----------------\n",
    "# losses = []\n",
    "# rewards = []\n",
    "# eval_rewards = []\n",
    "steps = 0 # no steps\n",
    "epsilon = 1\n",
    "\n",
    "# ------- Set up replay buffer ----------------\n",
    "curr_state = env.reset()\n",
    "curr_state = np.asarray(curr_state) #convert to np array\n",
    "replay_memory = ReplayMemory(capacity=REPLAY_LEN)\n",
    "for i in range(BATCH_SIZE):\n",
    "    action = env.action_space.sample()\n",
    "    observation, reward, done, _ = env.step(action)\n",
    "    \n",
    "    observation = np.asarray(observation) #convert to np array\n",
    "    replay_memory.push(curr_state, action, reward, observation, done)\n",
    "    \n",
    "    # update curr state\n",
    "    curr_state = observation\n",
    "print(f\"Initial length of replay memory: {len(replay_memory)}\")\n",
    "\n",
    "# ------- Set up saving dir ----------------\n",
    "sub_folders = [\"checkpoints\", \"tensorboard_runs\"] # list of subfolders\n",
    "for sub_folder in sub_folders:\n",
    "    path = f\"{SAVE_DIR}/{sub_folder}/\"\n",
    "    if not os.path.exists(path):\n",
    "        # Create a new directory because it does not exist\n",
    "        os.makedirs(path)\n",
    "        print(f\"{path} created\")\n",
    "        \n",
    "# ------- Set up Tensorboard --------------\n",
    "sample_input = replay_memory.sample(32)\n",
    "#     Transpose \n",
    "sample_input = Experience(*zip(*sample_input))\n",
    "#     convert to a single np.array for faster tensor conversion\n",
    "sample_state = np.array(sample_input.state)\n",
    "# Tensor-ify state, action, reward, successor, done\n",
    "sample_state = torch.Tensor(sample_state).squeeze().to(device)\n",
    "\n",
    "writer = SummaryWriter(log_dir=f\"{SAVE_DIR}/tensorboard_runs/\")\n",
    "writer.add_graph(model, sample_state) # add graph for model\n",
    "\n",
    "print(f'Start Tensorboard by running this command from project folder: tensorboard --logdir=\"{SAVE_DIR}/tensorboard_runs\"')"
   ]
  },
  {
   "cell_type": "markdown",
   "metadata": {},
   "source": [
    "### Training process"
   ]
  },
  {
   "cell_type": "code",
   "execution_count": 13,
   "metadata": {},
   "outputs": [
    {
     "name": "stderr",
     "output_type": "stream",
     "text": [
      "Ep: 282|49999 steps|Loss: 0.0909|Reward: 3.0:   2%| | 282/16000 [08:35<10:04:14,  2.31s/episo"
     ]
    },
    {
     "name": "stdout",
     "output_type": "stream",
     "text": [
      "------- Evaluating --------\n"
     ]
    },
    {
     "name": "stderr",
     "output_type": "stream",
     "text": [
      "Ep: 282|49999 steps|Loss: 0.0909|Reward: 3.0:   2%| | 282/16000 [08:51<10:04:14,  2.31s/episo"
     ]
    },
    {
     "name": "stdout",
     "output_type": "stream",
     "text": [
      "Evaluation reward (average per episode) 4.857142857142857\n",
      "---------------------------\n"
     ]
    },
    {
     "name": "stderr",
     "output_type": "stream",
     "text": [
      "Ep: 559|99964 steps|Loss: 0.0554|Reward: 0.0:   3%| | 559/16000 [18:24<8:06:50,  1.89s/episod"
     ]
    },
    {
     "name": "stdout",
     "output_type": "stream",
     "text": [
      "------- Evaluating --------\n"
     ]
    },
    {
     "name": "stderr",
     "output_type": "stream",
     "text": [
      "Ep: 559|99964 steps|Loss: 0.0554|Reward: 0.0:   3%| | 559/16000 [18:40<8:06:50,  1.89s/episod"
     ]
    },
    {
     "name": "stdout",
     "output_type": "stream",
     "text": [
      "Evaluation reward (average per episode) 0.075\n",
      "---------------------------\n"
     ]
    },
    {
     "name": "stderr",
     "output_type": "stream",
     "text": [
      "Ep: 827|149824 steps|Loss: 0.155|Reward: 2.0:   5%| | 827/16000 [28:53<11:17:02,  2.68s/episo"
     ]
    },
    {
     "name": "stdout",
     "output_type": "stream",
     "text": [
      "------- Evaluating --------\n"
     ]
    },
    {
     "name": "stderr",
     "output_type": "stream",
     "text": [
      "Ep: 827|149824 steps|Loss: 0.155|Reward: 2.0:   5%| | 827/16000 [29:09<11:17:02,  2.68s/episo"
     ]
    },
    {
     "name": "stdout",
     "output_type": "stream",
     "text": [
      "Evaluation reward (average per episode) 2.9166666666666665\n",
      "---------------------------\n"
     ]
    },
    {
     "name": "stderr",
     "output_type": "stream",
     "text": [
      "Ep: 1080|199953 steps|Loss: 0.1491|Reward: 1.0:   7%| | 1080/16000 [39:18<8:36:16,  2.08s/epi"
     ]
    },
    {
     "name": "stdout",
     "output_type": "stream",
     "text": [
      "------- Evaluating --------\n"
     ]
    },
    {
     "name": "stderr",
     "output_type": "stream",
     "text": [
      "Ep: 1080|199953 steps|Loss: 0.1491|Reward: 1.0:   7%| | 1080/16000 [39:35<8:36:16,  2.08s/epi"
     ]
    },
    {
     "name": "stdout",
     "output_type": "stream",
     "text": [
      "Evaluation reward (average per episode) 3.0\n",
      "---------------------------\n"
     ]
    },
    {
     "name": "stderr",
     "output_type": "stream",
     "text": [
      "Ep: 1323|249998 steps|Loss: 0.1673|Reward: 2.0:   8%| | 1323/16000 [49:48<9:22:08,  2.30s/epi"
     ]
    },
    {
     "name": "stdout",
     "output_type": "stream",
     "text": [
      "------- Evaluating --------\n"
     ]
    },
    {
     "name": "stderr",
     "output_type": "stream",
     "text": [
      "Ep: 1323|249998 steps|Loss: 0.1673|Reward: 2.0:   8%| | 1323/16000 [50:05<9:22:08,  2.30s/epi"
     ]
    },
    {
     "name": "stdout",
     "output_type": "stream",
     "text": [
      "Evaluation reward (average per episode) 2.875\n",
      "---------------------------\n"
     ]
    },
    {
     "name": "stderr",
     "output_type": "stream",
     "text": [
      "Ep: 1557|299974 steps|Loss: 0.1624|Reward: 0.0:  10%| | 1557/16000 [1:00:01<8:01:43,  2.00s/e"
     ]
    },
    {
     "name": "stdout",
     "output_type": "stream",
     "text": [
      "------- Evaluating --------\n"
     ]
    },
    {
     "name": "stderr",
     "output_type": "stream",
     "text": [
      "Ep: 1557|299974 steps|Loss: 0.1624|Reward: 0.0:  10%| | 1557/16000 [1:00:17<8:01:43,  2.00s/e"
     ]
    },
    {
     "name": "stdout",
     "output_type": "stream",
     "text": [
      "Evaluation reward (average per episode) 1.3934426229508197\n",
      "---------------------------\n"
     ]
    },
    {
     "name": "stderr",
     "output_type": "stream",
     "text": [
      "Ep: 1799|349871 steps|Loss: 0.1193|Reward: 4.0:  11%| | 1799/16000 [1:10:11<11:03:33,  2.80s/"
     ]
    },
    {
     "name": "stdout",
     "output_type": "stream",
     "text": [
      "------- Evaluating --------\n"
     ]
    },
    {
     "name": "stderr",
     "output_type": "stream",
     "text": [
      "Ep: 1800|350003 steps|Loss: 0.2269|Reward: 0.0:  11%| | 1800/16000 [1:10:27<28:32:13,  7.23s/"
     ]
    },
    {
     "name": "stdout",
     "output_type": "stream",
     "text": [
      "Evaluation reward (average per episode) 0.4722222222222222\n",
      "---------------------------\n"
     ]
    },
    {
     "name": "stderr",
     "output_type": "stream",
     "text": [
      "Ep: 2031|399928 steps|Loss: 0.116|Reward: 0.0:  13%|▏| 2031/16000 [1:20:26<10:45:05,  2.77s/e"
     ]
    },
    {
     "name": "stdout",
     "output_type": "stream",
     "text": [
      "------- Evaluating --------\n"
     ]
    },
    {
     "name": "stderr",
     "output_type": "stream",
     "text": [
      "Ep: 2031|399928 steps|Loss: 0.116|Reward: 0.0:  13%|▏| 2031/16000 [1:20:42<10:45:05,  2.77s/e"
     ]
    },
    {
     "name": "stdout",
     "output_type": "stream",
     "text": [
      "Evaluation reward (average per episode) 1.2222222222222223\n",
      "---------------------------\n"
     ]
    },
    {
     "name": "stderr",
     "output_type": "stream",
     "text": [
      "Ep: 2252|449926 steps|Loss: 0.1307|Reward: 5.0:  14%|▏| 2252/16000 [1:30:49<11:32:05,  3.02s/"
     ]
    },
    {
     "name": "stdout",
     "output_type": "stream",
     "text": [
      "------- Evaluating --------\n"
     ]
    },
    {
     "name": "stderr",
     "output_type": "stream",
     "text": [
      "Ep: 2252|449926 steps|Loss: 0.1307|Reward: 5.0:  14%|▏| 2252/16000 [1:31:05<11:32:05,  3.02s/"
     ]
    },
    {
     "name": "stdout",
     "output_type": "stream",
     "text": [
      "Evaluation reward (average per episode) 4.5\n",
      "---------------------------\n"
     ]
    },
    {
     "name": "stderr",
     "output_type": "stream",
     "text": [
      "Ep: 2447|499988 steps|Loss: 0.1966|Reward: 3.0:  15%|▏| 2447/16000 [1:41:14<12:07:40,  3.22s/"
     ]
    },
    {
     "name": "stdout",
     "output_type": "stream",
     "text": [
      "------- Evaluating --------\n"
     ]
    },
    {
     "name": "stderr",
     "output_type": "stream",
     "text": [
      "Ep: 2447|499988 steps|Loss: 0.1966|Reward: 3.0:  15%|▏| 2447/16000 [1:41:31<12:07:40,  3.22s/"
     ]
    },
    {
     "name": "stdout",
     "output_type": "stream",
     "text": [
      "Evaluation reward (average per episode) 5.724137931034483\n",
      "---------------------------\n"
     ]
    },
    {
     "name": "stderr",
     "output_type": "stream",
     "text": [
      "Ep: 2633|549969 steps|Loss: 0.0804|Reward: 2.0:  16%|▏| 2633/16000 [1:51:44<9:47:32,  2.64s/e"
     ]
    },
    {
     "name": "stdout",
     "output_type": "stream",
     "text": [
      "------- Evaluating --------\n"
     ]
    },
    {
     "name": "stderr",
     "output_type": "stream",
     "text": [
      "Ep: 2633|549969 steps|Loss: 0.0804|Reward: 2.0:  16%|▏| 2633/16000 [1:52:00<9:47:32,  2.64s/e"
     ]
    },
    {
     "name": "stdout",
     "output_type": "stream",
     "text": [
      "Evaluation reward (average per episode) 4.230769230769231\n",
      "---------------------------\n"
     ]
    },
    {
     "name": "stderr",
     "output_type": "stream",
     "text": [
      "Ep: 2808|599571 steps|Loss: 0.2815|Reward: 7.0:  18%|▏| 2808/16000 [2:02:15<14:38:25,  4.00s/"
     ]
    },
    {
     "name": "stdout",
     "output_type": "stream",
     "text": [
      "------- Evaluating --------\n"
     ]
    },
    {
     "name": "stderr",
     "output_type": "stream",
     "text": [
      "Ep: 2808|599571 steps|Loss: 0.2815|Reward: 7.0:  18%|▏| 2808/16000 [2:02:31<14:38:25,  4.00s/"
     ]
    },
    {
     "name": "stdout",
     "output_type": "stream",
     "text": [
      "Evaluation reward (average per episode) 4.2894736842105265\n",
      "---------------------------\n"
     ]
    },
    {
     "name": "stderr",
     "output_type": "stream",
     "text": [
      "Ep: 2987|649975 steps|Loss: 0.1712|Reward: 3.0:  19%|▏| 2987/16000 [2:12:53<11:34:53,  3.20s/"
     ]
    },
    {
     "name": "stdout",
     "output_type": "stream",
     "text": [
      "------- Evaluating --------\n"
     ]
    },
    {
     "name": "stderr",
     "output_type": "stream",
     "text": [
      "Ep: 2987|649975 steps|Loss: 0.1712|Reward: 3.0:  19%|▏| 2987/16000 [2:13:09<11:34:53,  3.20s/"
     ]
    },
    {
     "name": "stdout",
     "output_type": "stream",
     "text": [
      "Evaluation reward (average per episode) 4.885714285714286\n",
      "---------------------------\n"
     ]
    },
    {
     "name": "stderr",
     "output_type": "stream",
     "text": [
      "Ep: 3161|699963 steps|Loss: 0.1431|Reward: 5.0:  20%|▏| 3161/16000 [2:23:33<12:44:46,  3.57s/"
     ]
    },
    {
     "name": "stdout",
     "output_type": "stream",
     "text": [
      "------- Evaluating --------\n"
     ]
    },
    {
     "name": "stderr",
     "output_type": "stream",
     "text": [
      "Ep: 3161|699963 steps|Loss: 0.1431|Reward: 5.0:  20%|▏| 3161/16000 [2:23:49<12:44:46,  3.57s/"
     ]
    },
    {
     "name": "stdout",
     "output_type": "stream",
     "text": [
      "Evaluation reward (average per episode) 3.658536585365854\n",
      "---------------------------\n"
     ]
    },
    {
     "name": "stderr",
     "output_type": "stream",
     "text": [
      "Ep: 3327|749765 steps|Loss: 0.1943|Reward: 14.0:  21%|▏| 3327/16000 [2:34:18<17:40:28,  5.02s"
     ]
    },
    {
     "name": "stdout",
     "output_type": "stream",
     "text": [
      "------- Evaluating --------\n"
     ]
    },
    {
     "name": "stderr",
     "output_type": "stream",
     "text": [
      "Ep: 3327|749765 steps|Loss: 0.1943|Reward: 14.0:  21%|▏| 3327/16000 [2:34:33<17:40:28,  5.02s"
     ]
    },
    {
     "name": "stdout",
     "output_type": "stream",
     "text": [
      "Evaluation reward (average per episode) 6.137931034482759\n",
      "---------------------------\n"
     ]
    },
    {
     "name": "stderr",
     "output_type": "stream",
     "text": [
      "Ep: 3473|799720 steps|Loss: 0.0857|Reward: 8.0:  22%|▏| 3473/16000 [2:45:10<17:03:26,  4.90s/"
     ]
    },
    {
     "name": "stdout",
     "output_type": "stream",
     "text": [
      "------- Evaluating --------\n"
     ]
    },
    {
     "name": "stderr",
     "output_type": "stream",
     "text": [
      "Ep: 3473|799720 steps|Loss: 0.0857|Reward: 8.0:  22%|▏| 3473/16000 [2:45:27<17:03:26,  4.90s/"
     ]
    },
    {
     "name": "stdout",
     "output_type": "stream",
     "text": [
      "Evaluation reward (average per episode) 7.3076923076923075\n",
      "---------------------------\n"
     ]
    },
    {
     "name": "stderr",
     "output_type": "stream",
     "text": [
      "Ep: 3604|849692 steps|Loss: 0.1275|Reward: 5.0:  23%|▏| 3604/16000 [2:56:04<16:44:43,  4.86s/"
     ]
    },
    {
     "name": "stdout",
     "output_type": "stream",
     "text": [
      "------- Evaluating --------\n"
     ]
    },
    {
     "name": "stderr",
     "output_type": "stream",
     "text": [
      "Ep: 3604|849692 steps|Loss: 0.1275|Reward: 5.0:  23%|▏| 3604/16000 [2:56:20<16:44:43,  4.86s/"
     ]
    },
    {
     "name": "stdout",
     "output_type": "stream",
     "text": [
      "Evaluation reward (average per episode) 7.3076923076923075\n",
      "---------------------------\n"
     ]
    },
    {
     "name": "stderr",
     "output_type": "stream",
     "text": [
      "Ep: 3734|899922 steps|Loss: 0.097|Reward: 7.0:  23%|▏| 3734/16000 [3:07:12<17:10:15,  5.04s/e"
     ]
    },
    {
     "name": "stdout",
     "output_type": "stream",
     "text": [
      "------- Evaluating --------\n"
     ]
    },
    {
     "name": "stderr",
     "output_type": "stream",
     "text": [
      "Ep: 3734|899922 steps|Loss: 0.097|Reward: 7.0:  23%|▏| 3734/16000 [3:07:28<17:10:15,  5.04s/e"
     ]
    },
    {
     "name": "stdout",
     "output_type": "stream",
     "text": [
      "Evaluation reward (average per episode) 6.0\n",
      "---------------------------\n"
     ]
    },
    {
     "name": "stderr",
     "output_type": "stream",
     "text": [
      "Ep: 3857|949556 steps|Loss: 0.0964|Reward: 5.0:  24%|▏| 3857/16000 [3:18:28<17:06:26,  5.07s/"
     ]
    },
    {
     "name": "stdout",
     "output_type": "stream",
     "text": [
      "------- Evaluating --------\n"
     ]
    },
    {
     "name": "stderr",
     "output_type": "stream",
     "text": [
      "Ep: 3857|949556 steps|Loss: 0.0964|Reward: 5.0:  24%|▏| 3857/16000 [3:18:44<17:06:26,  5.07s/"
     ]
    },
    {
     "name": "stdout",
     "output_type": "stream",
     "text": [
      "Evaluation reward (average per episode) 8.291666666666666\n",
      "---------------------------\n"
     ]
    },
    {
     "name": "stderr",
     "output_type": "stream",
     "text": [
      "Ep: 3976|999785 steps|Loss: 0.0733|Reward: 6.0:  25%|▏| 3976/16000 [3:29:47<18:22:51,  5.50s/"
     ]
    },
    {
     "name": "stdout",
     "output_type": "stream",
     "text": [
      "------- Evaluating --------\n"
     ]
    },
    {
     "name": "stderr",
     "output_type": "stream",
     "text": [
      "Ep: 3976|999785 steps|Loss: 0.0733|Reward: 6.0:  25%|▏| 3976/16000 [3:30:03<18:22:51,  5.50s/"
     ]
    },
    {
     "name": "stdout",
     "output_type": "stream",
     "text": [
      "Evaluation reward (average per episode) 8.565217391304348\n",
      "---------------------------\n"
     ]
    },
    {
     "name": "stderr",
     "output_type": "stream",
     "text": [
      "Ep: 4087|1049744 steps|Loss: 0.1494|Reward: 15.0:  26%|▎| 4087/16000 [3:41:21<23:21:01,  7.06"
     ]
    },
    {
     "name": "stdout",
     "output_type": "stream",
     "text": [
      "------- Evaluating --------\n"
     ]
    },
    {
     "name": "stderr",
     "output_type": "stream",
     "text": [
      "Ep: 4087|1049744 steps|Loss: 0.1494|Reward: 15.0:  26%|▎| 4087/16000 [3:41:37<23:21:01,  7.06"
     ]
    },
    {
     "name": "stdout",
     "output_type": "stream",
     "text": [
      "Evaluation reward (average per episode) 10.2\n",
      "---------------------------\n"
     ]
    },
    {
     "name": "stderr",
     "output_type": "stream",
     "text": [
      "Ep: 4194|1099863 steps|Loss: 0.1355|Reward: 11.0:  26%|▎| 4194/16000 [3:52:43<24:22:35,  7.43"
     ]
    },
    {
     "name": "stdout",
     "output_type": "stream",
     "text": [
      "------- Evaluating --------\n"
     ]
    },
    {
     "name": "stderr",
     "output_type": "stream",
     "text": [
      "Ep: 4194|1099863 steps|Loss: 0.1355|Reward: 11.0:  26%|▎| 4194/16000 [3:52:59<24:22:35,  7.43"
     ]
    },
    {
     "name": "stdout",
     "output_type": "stream",
     "text": [
      "Evaluation reward (average per episode) 9.909090909090908\n",
      "---------------------------\n"
     ]
    },
    {
     "name": "stderr",
     "output_type": "stream",
     "text": [
      "Ep: 4298|1149543 steps|Loss: 0.1691|Reward: 12.0:  27%|▎| 4298/16000 [4:04:09<20:51:55,  6.42"
     ]
    },
    {
     "name": "stdout",
     "output_type": "stream",
     "text": [
      "------- Evaluating --------\n"
     ]
    },
    {
     "name": "stderr",
     "output_type": "stream",
     "text": [
      "Ep: 4298|1149543 steps|Loss: 0.1691|Reward: 12.0:  27%|▎| 4298/16000 [4:04:24<20:51:55,  6.42"
     ]
    },
    {
     "name": "stdout",
     "output_type": "stream",
     "text": [
      "Evaluation reward (average per episode) 11.444444444444445\n",
      "---------------------------\n"
     ]
    },
    {
     "name": "stderr",
     "output_type": "stream",
     "text": [
      "Ep: 4397|1199994 steps|Loss: 0.0905|Reward: 11.0:  27%|▎| 4397/16000 [4:15:25<21:35:49,  6.70"
     ]
    },
    {
     "name": "stdout",
     "output_type": "stream",
     "text": [
      "------- Evaluating --------\n"
     ]
    },
    {
     "name": "stderr",
     "output_type": "stream",
     "text": [
      "Ep: 4397|1199994 steps|Loss: 0.0905|Reward: 11.0:  27%|▎| 4397/16000 [4:15:42<21:35:49,  6.70"
     ]
    },
    {
     "name": "stdout",
     "output_type": "stream",
     "text": [
      "Evaluation reward (average per episode) 11.31578947368421\n",
      "---------------------------\n"
     ]
    },
    {
     "name": "stderr",
     "output_type": "stream",
     "text": [
      "Ep: 4498|1249661 steps|Loss: 0.0669|Reward: 9.0:  28%|▎| 4498/16000 [4:26:53<21:13:16,  6.64s"
     ]
    },
    {
     "name": "stdout",
     "output_type": "stream",
     "text": [
      "------- Evaluating --------\n"
     ]
    },
    {
     "name": "stderr",
     "output_type": "stream",
     "text": [
      "Ep: 4498|1249661 steps|Loss: 0.0669|Reward: 9.0:  28%|▎| 4498/16000 [4:27:09<21:13:16,  6.64s"
     ]
    },
    {
     "name": "stdout",
     "output_type": "stream",
     "text": [
      "Evaluation reward (average per episode) 11.631578947368421\n",
      "---------------------------\n"
     ]
    },
    {
     "name": "stderr",
     "output_type": "stream",
     "text": [
      "Ep: 4599|1299559 steps|Loss: 0.1111|Reward: 10.0:  29%|▎| 4599/16000 [4:38:22<21:04:01,  6.65"
     ]
    },
    {
     "name": "stdout",
     "output_type": "stream",
     "text": [
      "------- Evaluating --------\n"
     ]
    },
    {
     "name": "stderr",
     "output_type": "stream",
     "text": [
      "Ep: 4599|1299559 steps|Loss: 0.1111|Reward: 10.0:  29%|▎| 4599/16000 [4:38:38<21:04:01,  6.65"
     ]
    },
    {
     "name": "stdout",
     "output_type": "stream",
     "text": [
      "Evaluation reward (average per episode) 10.238095238095237\n",
      "---------------------------\n"
     ]
    },
    {
     "name": "stderr",
     "output_type": "stream",
     "text": [
      "Ep: 4695|1349838 steps|Loss: 0.1021|Reward: 14.0:  29%|▎| 4695/16000 [4:49:46<23:42:06,  7.55"
     ]
    },
    {
     "name": "stdout",
     "output_type": "stream",
     "text": [
      "------- Evaluating --------\n"
     ]
    },
    {
     "name": "stderr",
     "output_type": "stream",
     "text": [
      "Ep: 4695|1349838 steps|Loss: 0.1021|Reward: 14.0:  29%|▎| 4695/16000 [4:50:02<23:42:06,  7.55"
     ]
    },
    {
     "name": "stdout",
     "output_type": "stream",
     "text": [
      "Evaluation reward (average per episode) 12.0\n",
      "---------------------------\n"
     ]
    },
    {
     "name": "stderr",
     "output_type": "stream",
     "text": [
      "Ep: 4785|1399877 steps|Loss: 0.1297|Reward: 12.0:  30%|▎| 4785/16000 [5:01:17<25:55:19,  8.32"
     ]
    },
    {
     "name": "stdout",
     "output_type": "stream",
     "text": [
      "------- Evaluating --------\n"
     ]
    },
    {
     "name": "stderr",
     "output_type": "stream",
     "text": [
      "Ep: 4785|1399877 steps|Loss: 0.1297|Reward: 12.0:  30%|▎| 4785/16000 [5:01:34<25:55:19,  8.32"
     ]
    },
    {
     "name": "stdout",
     "output_type": "stream",
     "text": [
      "Evaluation reward (average per episode) 11.88888888888889\n",
      "---------------------------\n"
     ]
    },
    {
     "name": "stderr",
     "output_type": "stream",
     "text": [
      "Ep: 4876|1449857 steps|Loss: 0.1345|Reward: 13.0:  30%|▎| 4876/16000 [5:12:56<22:18:50,  7.22"
     ]
    },
    {
     "name": "stdout",
     "output_type": "stream",
     "text": [
      "------- Evaluating --------\n"
     ]
    },
    {
     "name": "stderr",
     "output_type": "stream",
     "text": [
      "Ep: 4876|1449857 steps|Loss: 0.1345|Reward: 13.0:  30%|▎| 4876/16000 [5:13:12<22:18:50,  7.22"
     ]
    },
    {
     "name": "stdout",
     "output_type": "stream",
     "text": [
      "Evaluation reward (average per episode) 11.894736842105264\n",
      "---------------------------\n"
     ]
    },
    {
     "name": "stderr",
     "output_type": "stream",
     "text": [
      "Ep: 4964|1499589 steps|Loss: 0.1143|Reward: 13.0:  31%|▎| 4964/16000 [5:24:35<22:46:27,  7.43"
     ]
    },
    {
     "name": "stdout",
     "output_type": "stream",
     "text": [
      "------- Evaluating --------\n"
     ]
    },
    {
     "name": "stderr",
     "output_type": "stream",
     "text": [
      "Ep: 4964|1499589 steps|Loss: 0.1143|Reward: 13.0:  31%|▎| 4964/16000 [5:24:51<22:46:27,  7.43"
     ]
    },
    {
     "name": "stdout",
     "output_type": "stream",
     "text": [
      "Evaluation reward (average per episode) 13.625\n",
      "---------------------------\n"
     ]
    },
    {
     "name": "stderr",
     "output_type": "stream",
     "text": [
      "Ep: 5050|1549866 steps|Loss: 0.1061|Reward: 14.0:  32%|▎| 5050/16000 [5:36:17<24:46:00,  8.14"
     ]
    },
    {
     "name": "stdout",
     "output_type": "stream",
     "text": [
      "------- Evaluating --------\n"
     ]
    },
    {
     "name": "stderr",
     "output_type": "stream",
     "text": [
      "Ep: 5050|1549866 steps|Loss: 0.1061|Reward: 14.0:  32%|▎| 5050/16000 [5:36:33<24:46:00,  8.14"
     ]
    },
    {
     "name": "stdout",
     "output_type": "stream",
     "text": [
      "Evaluation reward (average per episode) 13.764705882352942\n",
      "---------------------------\n"
     ]
    },
    {
     "name": "stderr",
     "output_type": "stream",
     "text": [
      "Ep: 5136|1599925 steps|Loss: 0.1172|Reward: 9.0:  32%|▎| 5136/16000 [5:47:59<24:23:03,  8.08s"
     ]
    },
    {
     "name": "stdout",
     "output_type": "stream",
     "text": [
      "------- Evaluating --------\n"
     ]
    },
    {
     "name": "stderr",
     "output_type": "stream",
     "text": [
      "Ep: 5136|1599925 steps|Loss: 0.1172|Reward: 9.0:  32%|▎| 5136/16000 [5:48:15<24:23:03,  8.08s"
     ]
    },
    {
     "name": "stdout",
     "output_type": "stream",
     "text": [
      "Evaluation reward (average per episode) 12.941176470588236\n",
      "---------------------------\n"
     ]
    },
    {
     "name": "stderr",
     "output_type": "stream",
     "text": [
      "Ep: 5223|1649879 steps|Loss: 0.1559|Reward: 10.0:  33%|▎| 5223/16000 [5:59:41<24:11:33,  8.08"
     ]
    },
    {
     "name": "stdout",
     "output_type": "stream",
     "text": [
      "------- Evaluating --------\n"
     ]
    },
    {
     "name": "stderr",
     "output_type": "stream",
     "text": [
      "Ep: 5223|1649879 steps|Loss: 0.1559|Reward: 10.0:  33%|▎| 5223/16000 [5:59:57<24:11:33,  8.08"
     ]
    },
    {
     "name": "stdout",
     "output_type": "stream",
     "text": [
      "Evaluation reward (average per episode) 13.0\n",
      "---------------------------\n"
     ]
    },
    {
     "name": "stderr",
     "output_type": "stream",
     "text": [
      "Ep: 5305|1699572 steps|Loss: 0.1326|Reward: 13.0:  33%|▎| 5305/16000 [6:11:10<24:28:39,  8.24"
     ]
    },
    {
     "name": "stdout",
     "output_type": "stream",
     "text": [
      "------- Evaluating --------\n"
     ]
    },
    {
     "name": "stderr",
     "output_type": "stream",
     "text": [
      "Ep: 5305|1699572 steps|Loss: 0.1326|Reward: 13.0:  33%|▎| 5305/16000 [6:11:27<24:28:39,  8.24"
     ]
    },
    {
     "name": "stdout",
     "output_type": "stream",
     "text": [
      "Evaluation reward (average per episode) 14.375\n",
      "---------------------------\n"
     ]
    },
    {
     "name": "stderr",
     "output_type": "stream",
     "text": [
      "Ep: 5388|1749699 steps|Loss: 0.1915|Reward: 12.0:  34%|▎| 5388/16000 [6:22:36<20:00:20,  6.79"
     ]
    },
    {
     "name": "stdout",
     "output_type": "stream",
     "text": [
      "------- Evaluating --------\n"
     ]
    },
    {
     "name": "stderr",
     "output_type": "stream",
     "text": [
      "Ep: 5388|1749699 steps|Loss: 0.1915|Reward: 12.0:  34%|▎| 5388/16000 [6:22:52<20:00:20,  6.79"
     ]
    },
    {
     "name": "stdout",
     "output_type": "stream",
     "text": [
      "Evaluation reward (average per episode) 15.4\n",
      "---------------------------\n"
     ]
    },
    {
     "name": "stderr",
     "output_type": "stream",
     "text": [
      "Ep: 5466|1799548 steps|Loss: 0.2201|Reward: 18.0:  34%|▎| 5466/16000 [6:34:17<29:17:52, 10.01"
     ]
    },
    {
     "name": "stdout",
     "output_type": "stream",
     "text": [
      "------- Evaluating --------\n"
     ]
    },
    {
     "name": "stderr",
     "output_type": "stream",
     "text": [
      "Ep: 5466|1799548 steps|Loss: 0.2201|Reward: 18.0:  34%|▎| 5466/16000 [6:34:33<29:17:52, 10.01"
     ]
    },
    {
     "name": "stdout",
     "output_type": "stream",
     "text": [
      "Evaluation reward (average per episode) 15.6\n",
      "---------------------------\n"
     ]
    },
    {
     "name": "stderr",
     "output_type": "stream",
     "text": [
      "Ep: 5547|1849203 steps|Loss: 0.1963|Reward: 21.0:  35%|▎| 5547/16000 [6:46:00<27:34:21,  9.50"
     ]
    },
    {
     "name": "stdout",
     "output_type": "stream",
     "text": [
      "------- Evaluating --------\n"
     ]
    },
    {
     "name": "stderr",
     "output_type": "stream",
     "text": [
      "Ep: 5547|1849203 steps|Loss: 0.1963|Reward: 21.0:  35%|▎| 5547/16000 [6:46:16<27:34:21,  9.50"
     ]
    },
    {
     "name": "stdout",
     "output_type": "stream",
     "text": [
      "Evaluation reward (average per episode) 17.214285714285715\n",
      "---------------------------\n"
     ]
    },
    {
     "name": "stderr",
     "output_type": "stream",
     "text": [
      "Ep: 5624|1899852 steps|Loss: 0.1489|Reward: 16.0:  35%|▎| 5624/16000 [6:57:45<28:41:56,  9.96"
     ]
    },
    {
     "name": "stdout",
     "output_type": "stream",
     "text": [
      "------- Evaluating --------\n"
     ]
    },
    {
     "name": "stderr",
     "output_type": "stream",
     "text": [
      "Ep: 5624|1899852 steps|Loss: 0.1489|Reward: 16.0:  35%|▎| 5624/16000 [6:58:01<28:41:56,  9.96"
     ]
    },
    {
     "name": "stdout",
     "output_type": "stream",
     "text": [
      "Evaluation reward (average per episode) 12.88888888888889\n",
      "---------------------------\n"
     ]
    },
    {
     "name": "stderr",
     "output_type": "stream",
     "text": [
      "Ep: 5702|1949340 steps|Loss: 0.1332|Reward: 9.0:  36%|▎| 5702/16000 [7:09:30<19:37:01,  6.86s"
     ]
    },
    {
     "name": "stdout",
     "output_type": "stream",
     "text": [
      "------- Evaluating --------\n"
     ]
    },
    {
     "name": "stderr",
     "output_type": "stream",
     "text": [
      "Ep: 5702|1949340 steps|Loss: 0.1332|Reward: 9.0:  36%|▎| 5702/16000 [7:09:45<19:37:01,  6.86s"
     ]
    },
    {
     "name": "stdout",
     "output_type": "stream",
     "text": [
      "Evaluation reward (average per episode) 17.357142857142858\n",
      "---------------------------\n"
     ]
    },
    {
     "name": "stderr",
     "output_type": "stream",
     "text": [
      "Ep: 5779|1999948 steps|Loss: 0.1935|Reward: 13.0:  36%|▎| 5779/16000 [7:21:13<24:19:10,  8.57"
     ]
    },
    {
     "name": "stdout",
     "output_type": "stream",
     "text": [
      "------- Evaluating --------\n"
     ]
    },
    {
     "name": "stderr",
     "output_type": "stream",
     "text": [
      "Ep: 5779|1999948 steps|Loss: 0.1935|Reward: 13.0:  36%|▎| 5779/16000 [7:21:29<24:19:10,  8.57"
     ]
    },
    {
     "name": "stdout",
     "output_type": "stream",
     "text": [
      "Evaluation reward (average per episode) 14.0625\n",
      "---------------------------\n"
     ]
    },
    {
     "name": "stderr",
     "output_type": "stream",
     "text": [
      "Ep: 5854|2049749 steps|Loss: 0.1527|Reward: 19.0:  37%|▎| 5854/16000 [7:33:01<29:01:57, 10.30"
     ]
    },
    {
     "name": "stdout",
     "output_type": "stream",
     "text": [
      "------- Evaluating --------\n"
     ]
    },
    {
     "name": "stderr",
     "output_type": "stream",
     "text": [
      "Ep: 5854|2049749 steps|Loss: 0.1527|Reward: 19.0:  37%|▎| 5854/16000 [7:33:17<29:01:57, 10.30"
     ]
    },
    {
     "name": "stdout",
     "output_type": "stream",
     "text": [
      "Evaluation reward (average per episode) 14.5\n",
      "---------------------------\n"
     ]
    },
    {
     "name": "stderr",
     "output_type": "stream",
     "text": [
      "Ep: 5926|2099583 steps|Loss: 0.1914|Reward: 22.0:  37%|▎| 5926/16000 [7:44:48<30:05:38, 10.75"
     ]
    },
    {
     "name": "stdout",
     "output_type": "stream",
     "text": [
      "------- Evaluating --------\n"
     ]
    },
    {
     "name": "stderr",
     "output_type": "stream",
     "text": [
      "Ep: 5926|2099583 steps|Loss: 0.1914|Reward: 22.0:  37%|▎| 5926/16000 [7:45:04<30:05:38, 10.75"
     ]
    },
    {
     "name": "stdout",
     "output_type": "stream",
     "text": [
      "Evaluation reward (average per episode) 14.3125\n",
      "---------------------------\n"
     ]
    },
    {
     "name": "stderr",
     "output_type": "stream",
     "text": [
      "Ep: 6004|2149387 steps|Loss: 0.2203|Reward: 17.0:  38%|▍| 6004/16000 [7:56:26<23:30:10,  8.46"
     ]
    },
    {
     "name": "stdout",
     "output_type": "stream",
     "text": [
      "------- Evaluating --------\n"
     ]
    },
    {
     "name": "stderr",
     "output_type": "stream",
     "text": [
      "Ep: 6004|2149387 steps|Loss: 0.2203|Reward: 17.0:  38%|▍| 6004/16000 [7:56:42<23:30:10,  8.46"
     ]
    },
    {
     "name": "stdout",
     "output_type": "stream",
     "text": [
      "Evaluation reward (average per episode) 17.071428571428573\n",
      "---------------------------\n"
     ]
    },
    {
     "name": "stderr",
     "output_type": "stream",
     "text": [
      "Ep: 6073|2199779 steps|Loss: 0.1851|Reward: 20.0:  38%|▍| 6073/16000 [8:07:58<30:02:26, 10.89"
     ]
    },
    {
     "name": "stdout",
     "output_type": "stream",
     "text": [
      "------- Evaluating --------\n"
     ]
    },
    {
     "name": "stderr",
     "output_type": "stream",
     "text": [
      "Ep: 6073|2199779 steps|Loss: 0.1851|Reward: 20.0:  38%|▍| 6073/16000 [8:08:14<30:02:26, 10.89"
     ]
    },
    {
     "name": "stdout",
     "output_type": "stream",
     "text": [
      "Evaluation reward (average per episode) 15.466666666666667\n",
      "---------------------------\n"
     ]
    },
    {
     "name": "stderr",
     "output_type": "stream",
     "text": [
      "Ep: 6143|2249359 steps|Loss: 0.2386|Reward: 14.0:  38%|▍| 6143/16000 [8:19:47<27:34:37, 10.07"
     ]
    },
    {
     "name": "stdout",
     "output_type": "stream",
     "text": [
      "------- Evaluating --------\n"
     ]
    },
    {
     "name": "stderr",
     "output_type": "stream",
     "text": [
      "Ep: 6143|2249359 steps|Loss: 0.2386|Reward: 14.0:  38%|▍| 6143/16000 [8:20:03<27:34:37, 10.07"
     ]
    },
    {
     "name": "stdout",
     "output_type": "stream",
     "text": [
      "Evaluation reward (average per episode) 16.133333333333333\n",
      "---------------------------\n"
     ]
    },
    {
     "name": "stderr",
     "output_type": "stream",
     "text": [
      "Ep: 6214|2299780 steps|Loss: 0.1563|Reward: 18.0:  39%|▍| 6214/16000 [8:31:21<24:19:52,  8.95"
     ]
    },
    {
     "name": "stdout",
     "output_type": "stream",
     "text": [
      "------- Evaluating --------\n"
     ]
    },
    {
     "name": "stderr",
     "output_type": "stream",
     "text": [
      "Ep: 6214|2299780 steps|Loss: 0.1563|Reward: 18.0:  39%|▍| 6214/16000 [8:31:38<24:19:52,  8.95"
     ]
    },
    {
     "name": "stdout",
     "output_type": "stream",
     "text": [
      "Evaluation reward (average per episode) 15.866666666666667\n",
      "---------------------------\n"
     ]
    },
    {
     "name": "stderr",
     "output_type": "stream",
     "text": [
      "Ep: 6282|2348901 steps|Loss: 0.1463|Reward: 11.0:  39%|▍| 6282/16000 [8:43:09<24:48:01,  9.19"
     ]
    },
    {
     "name": "stdout",
     "output_type": "stream",
     "text": [
      "------- Evaluating --------\n"
     ]
    },
    {
     "name": "stderr",
     "output_type": "stream",
     "text": [
      "Ep: 6282|2348901 steps|Loss: 0.1463|Reward: 11.0:  39%|▍| 6282/16000 [8:43:25<24:48:01,  9.19"
     ]
    },
    {
     "name": "stdout",
     "output_type": "stream",
     "text": [
      "Evaluation reward (average per episode) 17.785714285714285\n",
      "---------------------------\n"
     ]
    },
    {
     "name": "stderr",
     "output_type": "stream",
     "text": [
      "Ep: 6352|2399111 steps|Loss: 0.1526|Reward: 18.0:  40%|▍| 6352/16000 [8:54:57<29:03:51, 10.84"
     ]
    },
    {
     "name": "stdout",
     "output_type": "stream",
     "text": [
      "------- Evaluating --------\n"
     ]
    },
    {
     "name": "stderr",
     "output_type": "stream",
     "text": [
      "Ep: 6353|2400006 steps|Loss: 0.168|Reward: 24.0:  40%|▍| 6353/16000 [8:55:13<43:16:38, 16.15s"
     ]
    },
    {
     "name": "stdout",
     "output_type": "stream",
     "text": [
      "Evaluation reward (average per episode) 20.416666666666668\n",
      "---------------------------\n"
     ]
    },
    {
     "name": "stderr",
     "output_type": "stream",
     "text": [
      "Ep: 6419|2449486 steps|Loss: 0.1924|Reward: 20.0:  40%|▍| 6419/16000 [9:06:45<30:58:50, 11.64"
     ]
    },
    {
     "name": "stdout",
     "output_type": "stream",
     "text": [
      "------- Evaluating --------\n"
     ]
    },
    {
     "name": "stderr",
     "output_type": "stream",
     "text": [
      "Ep: 6419|2449486 steps|Loss: 0.1924|Reward: 20.0:  40%|▍| 6419/16000 [9:07:01<30:58:50, 11.64"
     ]
    },
    {
     "name": "stdout",
     "output_type": "stream",
     "text": [
      "Evaluation reward (average per episode) 18.846153846153847\n",
      "---------------------------\n"
     ]
    },
    {
     "name": "stderr",
     "output_type": "stream",
     "text": [
      "Ep: 6486|2499395 steps|Loss: 0.2563|Reward: 17.0:  41%|▍| 6486/16000 [9:18:34<28:12:26, 10.67"
     ]
    },
    {
     "name": "stdout",
     "output_type": "stream",
     "text": [
      "------- Evaluating --------\n"
     ]
    },
    {
     "name": "stderr",
     "output_type": "stream",
     "text": [
      "Ep: 6486|2499395 steps|Loss: 0.2563|Reward: 17.0:  41%|▍| 6486/16000 [9:18:50<28:12:26, 10.67"
     ]
    },
    {
     "name": "stdout",
     "output_type": "stream",
     "text": [
      "Evaluation reward (average per episode) 18.76923076923077\n",
      "---------------------------\n"
     ]
    },
    {
     "name": "stderr",
     "output_type": "stream",
     "text": [
      "Ep: 6553|2549789 steps|Loss: 0.1895|Reward: 18.0:  41%|▍| 6553/16000 [9:30:21<27:17:19, 10.40"
     ]
    },
    {
     "name": "stdout",
     "output_type": "stream",
     "text": [
      "------- Evaluating --------\n"
     ]
    },
    {
     "name": "stderr",
     "output_type": "stream",
     "text": [
      "Ep: 6553|2549789 steps|Loss: 0.1895|Reward: 18.0:  41%|▍| 6553/16000 [9:30:37<27:17:19, 10.40"
     ]
    },
    {
     "name": "stdout",
     "output_type": "stream",
     "text": [
      "Evaluation reward (average per episode) 19.583333333333332\n",
      "---------------------------\n"
     ]
    },
    {
     "name": "stderr",
     "output_type": "stream",
     "text": [
      "Ep: 6620|2599207 steps|Loss: 0.1531|Reward: 10.0:  41%|▍| 6620/16000 [9:42:13<23:10:54,  8.90"
     ]
    },
    {
     "name": "stdout",
     "output_type": "stream",
     "text": [
      "------- Evaluating --------\n"
     ]
    },
    {
     "name": "stderr",
     "output_type": "stream",
     "text": [
      "Ep: 6620|2599207 steps|Loss: 0.1531|Reward: 10.0:  41%|▍| 6620/16000 [9:42:29<23:10:54,  8.90"
     ]
    },
    {
     "name": "stdout",
     "output_type": "stream",
     "text": [
      "Evaluation reward (average per episode) 18.307692307692307\n",
      "---------------------------\n"
     ]
    },
    {
     "name": "stderr",
     "output_type": "stream",
     "text": [
      "Ep: 6688|2649293 steps|Loss: 0.3133|Reward: 24.0:  42%|▍| 6688/16000 [9:54:02<28:59:40, 11.21"
     ]
    },
    {
     "name": "stdout",
     "output_type": "stream",
     "text": [
      "------- Evaluating --------\n"
     ]
    },
    {
     "name": "stderr",
     "output_type": "stream",
     "text": [
      "Ep: 6688|2649293 steps|Loss: 0.3133|Reward: 24.0:  42%|▍| 6688/16000 [9:54:18<28:59:40, 11.21"
     ]
    },
    {
     "name": "stdout",
     "output_type": "stream",
     "text": [
      "Evaluation reward (average per episode) 15.625\n",
      "---------------------------\n"
     ]
    },
    {
     "name": "stderr",
     "output_type": "stream",
     "text": [
      "Ep: 6753|2699172 steps|Loss: 0.2126|Reward: 10.0:  42%|▍| 6753/16000 [10:05:47<22:51:06,  8.9"
     ]
    },
    {
     "name": "stdout",
     "output_type": "stream",
     "text": [
      "------- Evaluating --------\n"
     ]
    },
    {
     "name": "stderr",
     "output_type": "stream",
     "text": [
      "Ep: 6754|2700005 steps|Loss: 0.1975|Reward: 20.0:  42%|▍| 6754/16000 [10:06:03<36:59:21, 14.4"
     ]
    },
    {
     "name": "stdout",
     "output_type": "stream",
     "text": [
      "Evaluation reward (average per episode) 19.23076923076923\n",
      "---------------------------\n"
     ]
    },
    {
     "name": "stderr",
     "output_type": "stream",
     "text": [
      "Ep: 6818|2749218 steps|Loss: 0.1623|Reward: 15.0:  43%|▍| 6818/16000 [10:17:27<28:41:31, 11.2"
     ]
    },
    {
     "name": "stdout",
     "output_type": "stream",
     "text": [
      "------- Evaluating --------\n"
     ]
    },
    {
     "name": "stderr",
     "output_type": "stream",
     "text": [
      "Ep: 6818|2749218 steps|Loss: 0.1623|Reward: 15.0:  43%|▍| 6818/16000 [10:17:43<28:41:31, 11.2"
     ]
    },
    {
     "name": "stdout",
     "output_type": "stream",
     "text": [
      "Evaluation reward (average per episode) 20.0\n",
      "---------------------------\n"
     ]
    },
    {
     "name": "stderr",
     "output_type": "stream",
     "text": [
      "Ep: 6884|2799520 steps|Loss: 0.231|Reward: 19.0:  43%|▍| 6884/16000 [10:29:13<28:48:52, 11.38"
     ]
    },
    {
     "name": "stdout",
     "output_type": "stream",
     "text": [
      "------- Evaluating --------\n"
     ]
    },
    {
     "name": "stderr",
     "output_type": "stream",
     "text": [
      "Ep: 6884|2799520 steps|Loss: 0.231|Reward: 19.0:  43%|▍| 6884/16000 [10:29:30<28:48:52, 11.38"
     ]
    },
    {
     "name": "stdout",
     "output_type": "stream",
     "text": [
      "Evaluation reward (average per episode) 18.692307692307693\n",
      "---------------------------\n"
     ]
    },
    {
     "name": "stderr",
     "output_type": "stream",
     "text": [
      "Ep: 6948|2849702 steps|Loss: 0.2562|Reward: 21.0:  43%|▍| 6948/16000 [10:41:01<26:00:01, 10.3"
     ]
    },
    {
     "name": "stdout",
     "output_type": "stream",
     "text": [
      "------- Evaluating --------\n"
     ]
    },
    {
     "name": "stderr",
     "output_type": "stream",
     "text": [
      "Ep: 6948|2849702 steps|Loss: 0.2562|Reward: 21.0:  43%|▍| 6948/16000 [10:41:17<26:00:01, 10.3"
     ]
    },
    {
     "name": "stdout",
     "output_type": "stream",
     "text": [
      "Evaluation reward (average per episode) 18.53846153846154\n",
      "---------------------------\n"
     ]
    },
    {
     "name": "stderr",
     "output_type": "stream",
     "text": [
      "Ep: 7012|2899644 steps|Loss: 0.2015|Reward: 26.0:  44%|▍| 7012/16000 [10:52:45<30:11:20, 12.0"
     ]
    },
    {
     "name": "stdout",
     "output_type": "stream",
     "text": [
      "------- Evaluating --------\n"
     ]
    },
    {
     "name": "stderr",
     "output_type": "stream",
     "text": [
      "Ep: 7012|2899644 steps|Loss: 0.2015|Reward: 26.0:  44%|▍| 7012/16000 [10:53:01<30:11:20, 12.0"
     ]
    },
    {
     "name": "stdout",
     "output_type": "stream",
     "text": [
      "Evaluation reward (average per episode) 18.692307692307693\n",
      "---------------------------\n"
     ]
    },
    {
     "name": "stderr",
     "output_type": "stream",
     "text": [
      "Ep: 7075|2949976 steps|Loss: 0.1748|Reward: 26.0:  44%|▍| 7075/16000 [11:04:39<27:40:38, 11.1"
     ]
    },
    {
     "name": "stdout",
     "output_type": "stream",
     "text": [
      "------- Evaluating --------\n"
     ]
    },
    {
     "name": "stderr",
     "output_type": "stream",
     "text": [
      "Ep: 7075|2949976 steps|Loss: 0.1748|Reward: 26.0:  44%|▍| 7075/16000 [11:04:55<27:40:38, 11.1"
     ]
    },
    {
     "name": "stdout",
     "output_type": "stream",
     "text": [
      "Evaluation reward (average per episode) 20.666666666666668\n",
      "---------------------------\n"
     ]
    },
    {
     "name": "stderr",
     "output_type": "stream",
     "text": [
      "Ep: 7140|2999879 steps|Loss: 0.2267|Reward: 26.0:  45%|▍| 7140/16000 [11:16:23<24:43:53, 10.0"
     ]
    },
    {
     "name": "stdout",
     "output_type": "stream",
     "text": [
      "------- Evaluating --------\n"
     ]
    },
    {
     "name": "stderr",
     "output_type": "stream",
     "text": [
      "Ep: 7140|2999879 steps|Loss: 0.2267|Reward: 26.0:  45%|▍| 7140/16000 [11:16:39<24:43:53, 10.0"
     ]
    },
    {
     "name": "stdout",
     "output_type": "stream",
     "text": [
      "Evaluation reward (average per episode) 20.416666666666668\n",
      "---------------------------\n"
     ]
    },
    {
     "name": "stderr",
     "output_type": "stream",
     "text": [
      "Ep: 7203|3049385 steps|Loss: 0.1655|Reward: 15.0:  45%|▍| 7203/16000 [11:28:09<23:25:27,  9.5"
     ]
    },
    {
     "name": "stdout",
     "output_type": "stream",
     "text": [
      "------- Evaluating --------\n"
     ]
    },
    {
     "name": "stderr",
     "output_type": "stream",
     "text": [
      "Ep: 7203|3049385 steps|Loss: 0.1655|Reward: 15.0:  45%|▍| 7203/16000 [11:28:25<23:25:27,  9.5"
     ]
    },
    {
     "name": "stdout",
     "output_type": "stream",
     "text": [
      "Evaluation reward (average per episode) 17.071428571428573\n",
      "---------------------------\n"
     ]
    },
    {
     "name": "stderr",
     "output_type": "stream",
     "text": [
      "Ep: 7264|3099367 steps|Loss: 0.2262|Reward: 12.0:  45%|▍| 7264/16000 [11:40:09<22:30:06,  9.2"
     ]
    },
    {
     "name": "stdout",
     "output_type": "stream",
     "text": [
      "------- Evaluating --------\n"
     ]
    },
    {
     "name": "stderr",
     "output_type": "stream",
     "text": [
      "Ep: 7264|3099367 steps|Loss: 0.2262|Reward: 12.0:  45%|▍| 7264/16000 [11:40:25<22:30:06,  9.2"
     ]
    },
    {
     "name": "stdout",
     "output_type": "stream",
     "text": [
      "Evaluation reward (average per episode) 17.0\n",
      "---------------------------\n"
     ]
    },
    {
     "name": "stderr",
     "output_type": "stream",
     "text": [
      "Ep: 7325|3149524 steps|Loss: 0.2152|Reward: 23.0:  46%|▍| 7325/16000 [11:52:06<31:04:13, 12.8"
     ]
    },
    {
     "name": "stdout",
     "output_type": "stream",
     "text": [
      "------- Evaluating --------\n"
     ]
    },
    {
     "name": "stderr",
     "output_type": "stream",
     "text": [
      "Ep: 7325|3149524 steps|Loss: 0.2152|Reward: 23.0:  46%|▍| 7325/16000 [11:52:22<31:04:13, 12.8"
     ]
    },
    {
     "name": "stdout",
     "output_type": "stream",
     "text": [
      "Evaluation reward (average per episode) 22.454545454545453\n",
      "---------------------------\n"
     ]
    },
    {
     "name": "stderr",
     "output_type": "stream",
     "text": [
      "Ep: 7387|3199932 steps|Loss: 0.2547|Reward: 24.0:  46%|▍| 7387/16000 [12:04:05<28:18:02, 11.8"
     ]
    },
    {
     "name": "stdout",
     "output_type": "stream",
     "text": [
      "------- Evaluating --------\n"
     ]
    },
    {
     "name": "stderr",
     "output_type": "stream",
     "text": [
      "Ep: 7387|3199932 steps|Loss: 0.2547|Reward: 24.0:  46%|▍| 7387/16000 [12:04:22<28:18:02, 11.8"
     ]
    },
    {
     "name": "stdout",
     "output_type": "stream",
     "text": [
      "Evaluation reward (average per episode) 19.384615384615383\n",
      "---------------------------\n"
     ]
    },
    {
     "name": "stderr",
     "output_type": "stream",
     "text": [
      "Ep: 7447|3249513 steps|Loss: 0.2164|Reward: 18.0:  47%|▍| 7447/16000 [12:16:11<24:27:41, 10.3"
     ]
    },
    {
     "name": "stdout",
     "output_type": "stream",
     "text": [
      "------- Evaluating --------\n"
     ]
    },
    {
     "name": "stderr",
     "output_type": "stream",
     "text": [
      "Ep: 7447|3249513 steps|Loss: 0.2164|Reward: 18.0:  47%|▍| 7447/16000 [12:16:27<24:27:41, 10.3"
     ]
    },
    {
     "name": "stdout",
     "output_type": "stream",
     "text": [
      "Evaluation reward (average per episode) 20.333333333333332\n",
      "---------------------------\n"
     ]
    },
    {
     "name": "stderr",
     "output_type": "stream",
     "text": [
      "Ep: 7509|3299035 steps|Loss: 0.25|Reward: 17.0:  47%|▍| 7509/16000 [12:28:16<25:37:56, 10.87s"
     ]
    },
    {
     "name": "stdout",
     "output_type": "stream",
     "text": [
      "------- Evaluating --------\n"
     ]
    },
    {
     "name": "stderr",
     "output_type": "stream",
     "text": [
      "Ep: 7509|3299035 steps|Loss: 0.25|Reward: 17.0:  47%|▍| 7509/16000 [12:28:33<25:37:56, 10.87s"
     ]
    },
    {
     "name": "stdout",
     "output_type": "stream",
     "text": [
      "Evaluation reward (average per episode) 19.307692307692307\n",
      "---------------------------\n"
     ]
    },
    {
     "name": "stderr",
     "output_type": "stream",
     "text": [
      "Ep: 7570|3349383 steps|Loss: 0.1552|Reward: 24.0:  47%|▍| 7570/16000 [12:40:12<29:16:34, 12.5"
     ]
    },
    {
     "name": "stdout",
     "output_type": "stream",
     "text": [
      "------- Evaluating --------\n"
     ]
    },
    {
     "name": "stderr",
     "output_type": "stream",
     "text": [
      "Ep: 7570|3349383 steps|Loss: 0.1552|Reward: 24.0:  47%|▍| 7570/16000 [12:40:28<29:16:34, 12.5"
     ]
    },
    {
     "name": "stdout",
     "output_type": "stream",
     "text": [
      "Evaluation reward (average per episode) 21.166666666666668\n",
      "---------------------------\n"
     ]
    },
    {
     "name": "stderr",
     "output_type": "stream",
     "text": [
      "Ep: 7632|3399973 steps|Loss: 0.1516|Reward: 14.0:  48%|▍| 7632/16000 [12:52:19<23:59:31, 10.3"
     ]
    },
    {
     "name": "stdout",
     "output_type": "stream",
     "text": [
      "------- Evaluating --------\n"
     ]
    },
    {
     "name": "stderr",
     "output_type": "stream",
     "text": [
      "Ep: 7632|3399973 steps|Loss: 0.1516|Reward: 14.0:  48%|▍| 7632/16000 [12:52:35<23:59:31, 10.3"
     ]
    },
    {
     "name": "stdout",
     "output_type": "stream",
     "text": [
      "Evaluation reward (average per episode) 19.46153846153846\n",
      "---------------------------\n"
     ]
    },
    {
     "name": "stderr",
     "output_type": "stream",
     "text": [
      "Ep: 7691|3449660 steps|Loss: 0.1745|Reward: 28.0:  48%|▍| 7691/16000 [13:04:25<30:36:40, 13.2"
     ]
    },
    {
     "name": "stdout",
     "output_type": "stream",
     "text": [
      "------- Evaluating --------\n"
     ]
    },
    {
     "name": "stderr",
     "output_type": "stream",
     "text": [
      "Ep: 7691|3449660 steps|Loss: 0.1745|Reward: 28.0:  48%|▍| 7691/16000 [13:04:40<30:36:40, 13.2"
     ]
    },
    {
     "name": "stdout",
     "output_type": "stream",
     "text": [
      "Evaluation reward (average per episode) 20.833333333333332\n",
      "---------------------------\n"
     ]
    },
    {
     "name": "stderr",
     "output_type": "stream",
     "text": [
      "Ep: 7751|3499699 steps|Loss: 0.3055|Reward: 23.0:  48%|▍| 7751/16000 [13:16:33<29:30:35, 12.8"
     ]
    },
    {
     "name": "stdout",
     "output_type": "stream",
     "text": [
      "------- Evaluating --------\n"
     ]
    },
    {
     "name": "stderr",
     "output_type": "stream",
     "text": [
      "Ep: 7751|3499699 steps|Loss: 0.3055|Reward: 23.0:  48%|▍| 7751/16000 [13:16:49<29:30:35, 12.8"
     ]
    },
    {
     "name": "stdout",
     "output_type": "stream",
     "text": [
      "Evaluation reward (average per episode) 22.09090909090909\n",
      "---------------------------\n"
     ]
    },
    {
     "name": "stderr",
     "output_type": "stream",
     "text": [
      "Ep: 7809|3549735 steps|Loss: 0.2059|Reward: 24.0:  49%|▍| 7809/16000 [13:28:44<29:26:34, 12.9"
     ]
    },
    {
     "name": "stdout",
     "output_type": "stream",
     "text": [
      "------- Evaluating --------\n"
     ]
    },
    {
     "name": "stderr",
     "output_type": "stream",
     "text": [
      "Ep: 7809|3549735 steps|Loss: 0.2059|Reward: 24.0:  49%|▍| 7809/16000 [13:28:59<29:26:34, 12.9"
     ]
    },
    {
     "name": "stdout",
     "output_type": "stream",
     "text": [
      "Evaluation reward (average per episode) 18.846153846153847\n",
      "---------------------------\n"
     ]
    },
    {
     "name": "stderr",
     "output_type": "stream",
     "text": [
      "Ep: 7870|3599709 steps|Loss: 0.1889|Reward: 19.0:  49%|▍| 7870/16000 [13:40:54<23:15:18, 10.3"
     ]
    },
    {
     "name": "stdout",
     "output_type": "stream",
     "text": [
      "------- Evaluating --------\n"
     ]
    },
    {
     "name": "stderr",
     "output_type": "stream",
     "text": [
      "Ep: 7870|3599709 steps|Loss: 0.1889|Reward: 19.0:  49%|▍| 7870/16000 [13:41:10<23:15:18, 10.3"
     ]
    },
    {
     "name": "stdout",
     "output_type": "stream",
     "text": [
      "Evaluation reward (average per episode) 19.692307692307693\n",
      "---------------------------\n"
     ]
    },
    {
     "name": "stderr",
     "output_type": "stream",
     "text": [
      "Ep: 7927|3649451 steps|Loss: 0.2239|Reward: 27.0:  50%|▍| 7927/16000 [13:53:04<31:45:24, 14.1"
     ]
    },
    {
     "name": "stdout",
     "output_type": "stream",
     "text": [
      "------- Evaluating --------\n"
     ]
    },
    {
     "name": "stderr",
     "output_type": "stream",
     "text": [
      "Ep: 7927|3649451 steps|Loss: 0.2239|Reward: 27.0:  50%|▍| 7927/16000 [13:53:20<31:45:24, 14.1"
     ]
    },
    {
     "name": "stdout",
     "output_type": "stream",
     "text": [
      "Evaluation reward (average per episode) 22.818181818181817\n",
      "---------------------------\n"
     ]
    },
    {
     "name": "stderr",
     "output_type": "stream",
     "text": [
      "Ep: 7989|3699695 steps|Loss: 0.2057|Reward: 27.0:  50%|▍| 7989/16000 [14:05:14<27:42:45, 12.4"
     ]
    },
    {
     "name": "stdout",
     "output_type": "stream",
     "text": [
      "------- Evaluating --------\n"
     ]
    },
    {
     "name": "stderr",
     "output_type": "stream",
     "text": [
      "Ep: 7989|3699695 steps|Loss: 0.2057|Reward: 27.0:  50%|▍| 7989/16000 [14:05:31<27:42:45, 12.4"
     ]
    },
    {
     "name": "stdout",
     "output_type": "stream",
     "text": [
      "Evaluation reward (average per episode) 23.363636363636363\n",
      "---------------------------\n"
     ]
    },
    {
     "name": "stderr",
     "output_type": "stream",
     "text": [
      "Ep: 8049|3749779 steps|Loss: 0.251|Reward: 21.0:  50%|▌| 8049/16000 [14:17:25<27:39:12, 12.52"
     ]
    },
    {
     "name": "stdout",
     "output_type": "stream",
     "text": [
      "------- Evaluating --------\n"
     ]
    },
    {
     "name": "stderr",
     "output_type": "stream",
     "text": [
      "Ep: 8049|3749779 steps|Loss: 0.251|Reward: 21.0:  50%|▌| 8049/16000 [14:17:40<27:39:12, 12.52"
     ]
    },
    {
     "name": "stdout",
     "output_type": "stream",
     "text": [
      "Evaluation reward (average per episode) 22.454545454545453\n",
      "---------------------------\n"
     ]
    },
    {
     "name": "stderr",
     "output_type": "stream",
     "text": [
      "Ep: 8106|3799440 steps|Loss: 0.197|Reward: 28.0:  51%|▌| 8106/16000 [14:29:34<28:28:06, 12.98"
     ]
    },
    {
     "name": "stdout",
     "output_type": "stream",
     "text": [
      "------- Evaluating --------\n"
     ]
    },
    {
     "name": "stderr",
     "output_type": "stream",
     "text": [
      "Ep: 8106|3799440 steps|Loss: 0.197|Reward: 28.0:  51%|▌| 8106/16000 [14:29:50<28:28:06, 12.98"
     ]
    },
    {
     "name": "stdout",
     "output_type": "stream",
     "text": [
      "Evaluation reward (average per episode) 23.363636363636363\n",
      "---------------------------\n"
     ]
    },
    {
     "name": "stderr",
     "output_type": "stream",
     "text": [
      "Ep: 8168|3849707 steps|Loss: 0.2165|Reward: 27.0:  51%|▌| 8168/16000 [14:41:46<27:09:41, 12.4"
     ]
    },
    {
     "name": "stdout",
     "output_type": "stream",
     "text": [
      "------- Evaluating --------\n"
     ]
    },
    {
     "name": "stderr",
     "output_type": "stream",
     "text": [
      "Ep: 8168|3849707 steps|Loss: 0.2165|Reward: 27.0:  51%|▌| 8168/16000 [14:42:02<27:09:41, 12.4"
     ]
    },
    {
     "name": "stdout",
     "output_type": "stream",
     "text": [
      "Evaluation reward (average per episode) 20.916666666666668\n",
      "---------------------------\n"
     ]
    },
    {
     "name": "stderr",
     "output_type": "stream",
     "text": [
      "Ep: 8222|3899464 steps|Loss: 0.3773|Reward: 23.0:  51%|▌| 8222/16000 [14:53:59<28:19:40, 13.1"
     ]
    },
    {
     "name": "stdout",
     "output_type": "stream",
     "text": [
      "------- Evaluating --------\n"
     ]
    },
    {
     "name": "stderr",
     "output_type": "stream",
     "text": [
      "Ep: 8222|3899464 steps|Loss: 0.3773|Reward: 23.0:  51%|▌| 8222/16000 [14:54:15<28:19:40, 13.1"
     ]
    },
    {
     "name": "stdout",
     "output_type": "stream",
     "text": [
      "Evaluation reward (average per episode) 24.636363636363637\n",
      "---------------------------\n"
     ]
    },
    {
     "name": "stderr",
     "output_type": "stream",
     "text": [
      "Ep: 8280|3949221 steps|Loss: 0.2568|Reward: 32.0:  52%|▌| 8280/16000 [15:06:11<28:52:28, 13.4"
     ]
    },
    {
     "name": "stdout",
     "output_type": "stream",
     "text": [
      "------- Evaluating --------\n"
     ]
    },
    {
     "name": "stderr",
     "output_type": "stream",
     "text": [
      "Ep: 8280|3949221 steps|Loss: 0.2568|Reward: 32.0:  52%|▌| 8280/16000 [15:06:27<28:52:28, 13.4"
     ]
    },
    {
     "name": "stdout",
     "output_type": "stream",
     "text": [
      "Evaluation reward (average per episode) 22.636363636363637\n",
      "---------------------------\n"
     ]
    },
    {
     "name": "stderr",
     "output_type": "stream",
     "text": [
      "Ep: 8337|3999846 steps|Loss: 0.2991|Reward: 23.0:  52%|▌| 8337/16000 [15:18:23<27:21:58, 12.8"
     ]
    },
    {
     "name": "stdout",
     "output_type": "stream",
     "text": [
      "------- Evaluating --------\n"
     ]
    },
    {
     "name": "stderr",
     "output_type": "stream",
     "text": [
      "Ep: 8337|3999846 steps|Loss: 0.2991|Reward: 23.0:  52%|▌| 8337/16000 [15:18:39<27:21:58, 12.8"
     ]
    },
    {
     "name": "stdout",
     "output_type": "stream",
     "text": [
      "Evaluation reward (average per episode) 23.272727272727273\n",
      "---------------------------\n"
     ]
    },
    {
     "name": "stderr",
     "output_type": "stream",
     "text": [
      "Ep: 8392|4049258 steps|Loss: 0.2699|Reward: 29.0:  52%|▌| 8392/16000 [15:30:37<26:26:29, 12.5"
     ]
    },
    {
     "name": "stdout",
     "output_type": "stream",
     "text": [
      "------- Evaluating --------\n"
     ]
    },
    {
     "name": "stderr",
     "output_type": "stream",
     "text": [
      "Ep: 8392|4049258 steps|Loss: 0.2699|Reward: 29.0:  52%|▌| 8392/16000 [15:30:53<26:26:29, 12.5"
     ]
    },
    {
     "name": "stdout",
     "output_type": "stream",
     "text": [
      "Evaluation reward (average per episode) 26.1\n",
      "---------------------------\n"
     ]
    },
    {
     "name": "stderr",
     "output_type": "stream",
     "text": [
      "Ep: 8448|4099248 steps|Loss: 0.1393|Reward: 25.0:  53%|▌| 8448/16000 [15:42:53<27:26:27, 13.0"
     ]
    },
    {
     "name": "stdout",
     "output_type": "stream",
     "text": [
      "------- Evaluating --------\n"
     ]
    },
    {
     "name": "stderr",
     "output_type": "stream",
     "text": [
      "Ep: 8448|4099248 steps|Loss: 0.1393|Reward: 25.0:  53%|▌| 8448/16000 [15:43:09<27:26:27, 13.0"
     ]
    },
    {
     "name": "stdout",
     "output_type": "stream",
     "text": [
      "Evaluation reward (average per episode) 25.3\n",
      "---------------------------\n"
     ]
    },
    {
     "name": "stderr",
     "output_type": "stream",
     "text": [
      "Ep: 8507|4149878 steps|Loss: 0.2198|Reward: 19.0:  53%|▌| 8507/16000 [15:55:01<24:33:07, 11.8"
     ]
    },
    {
     "name": "stdout",
     "output_type": "stream",
     "text": [
      "------- Evaluating --------\n"
     ]
    },
    {
     "name": "stderr",
     "output_type": "stream",
     "text": [
      "Ep: 8507|4149878 steps|Loss: 0.2198|Reward: 19.0:  53%|▌| 8507/16000 [15:55:17<24:33:07, 11.8"
     ]
    },
    {
     "name": "stdout",
     "output_type": "stream",
     "text": [
      "Evaluation reward (average per episode) 23.181818181818183\n",
      "---------------------------\n"
     ]
    },
    {
     "name": "stderr",
     "output_type": "stream",
     "text": [
      "Ep: 8561|4199296 steps|Loss: 0.1878|Reward: 23.0:  54%|▌| 8561/16000 [16:07:11<27:52:48, 13.4"
     ]
    },
    {
     "name": "stdout",
     "output_type": "stream",
     "text": [
      "------- Evaluating --------\n"
     ]
    },
    {
     "name": "stderr",
     "output_type": "stream",
     "text": [
      "Ep: 8561|4199296 steps|Loss: 0.1878|Reward: 23.0:  54%|▌| 8561/16000 [16:07:27<27:52:48, 13.4"
     ]
    },
    {
     "name": "stdout",
     "output_type": "stream",
     "text": [
      "Evaluation reward (average per episode) 22.583333333333332\n",
      "---------------------------\n"
     ]
    },
    {
     "name": "stderr",
     "output_type": "stream",
     "text": [
      "Ep: 8619|4249702 steps|Loss: 0.189|Reward: 23.0:  54%|▌| 8619/16000 [16:19:22<24:11:00, 11.80"
     ]
    },
    {
     "name": "stdout",
     "output_type": "stream",
     "text": [
      "------- Evaluating --------\n"
     ]
    },
    {
     "name": "stderr",
     "output_type": "stream",
     "text": [
      "Ep: 8619|4249702 steps|Loss: 0.189|Reward: 23.0:  54%|▌| 8619/16000 [16:19:38<24:11:00, 11.80"
     ]
    },
    {
     "name": "stdout",
     "output_type": "stream",
     "text": [
      "Evaluation reward (average per episode) 23.181818181818183\n",
      "---------------------------\n"
     ]
    },
    {
     "name": "stderr",
     "output_type": "stream",
     "text": [
      "Ep: 8673|4299697 steps|Loss: 0.1126|Reward: 19.0:  54%|▌| 8673/16000 [16:31:33<25:32:12, 12.5"
     ]
    },
    {
     "name": "stdout",
     "output_type": "stream",
     "text": [
      "------- Evaluating --------\n"
     ]
    },
    {
     "name": "stderr",
     "output_type": "stream",
     "text": [
      "Ep: 8673|4299697 steps|Loss: 0.1126|Reward: 19.0:  54%|▌| 8673/16000 [16:31:50<25:32:12, 12.5"
     ]
    },
    {
     "name": "stdout",
     "output_type": "stream",
     "text": [
      "Evaluation reward (average per episode) 23.90909090909091\n",
      "---------------------------\n"
     ]
    },
    {
     "name": "stderr",
     "output_type": "stream",
     "text": [
      "Ep: 8729|4349960 steps|Loss: 0.2432|Reward: 15.0:  55%|▌| 8729/16000 [16:43:46<27:23:35, 13.5"
     ]
    },
    {
     "name": "stdout",
     "output_type": "stream",
     "text": [
      "------- Evaluating --------\n"
     ]
    },
    {
     "name": "stderr",
     "output_type": "stream",
     "text": [
      "Ep: 8729|4349960 steps|Loss: 0.2432|Reward: 15.0:  55%|▌| 8729/16000 [16:44:01<27:23:35, 13.5"
     ]
    },
    {
     "name": "stdout",
     "output_type": "stream",
     "text": [
      "Evaluation reward (average per episode) 24.363636363636363\n",
      "---------------------------\n"
     ]
    },
    {
     "name": "stderr",
     "output_type": "stream",
     "text": [
      "Ep: 8787|4399921 steps|Loss: 0.2461|Reward: 26.0:  55%|▌| 8787/16000 [16:56:00<24:48:16, 12.3"
     ]
    },
    {
     "name": "stdout",
     "output_type": "stream",
     "text": [
      "------- Evaluating --------\n"
     ]
    },
    {
     "name": "stderr",
     "output_type": "stream",
     "text": [
      "Ep: 8787|4399921 steps|Loss: 0.2461|Reward: 26.0:  55%|▌| 8787/16000 [16:56:16<24:48:16, 12.3"
     ]
    },
    {
     "name": "stdout",
     "output_type": "stream",
     "text": [
      "Evaluation reward (average per episode) 23.545454545454547\n",
      "---------------------------\n"
     ]
    },
    {
     "name": "stderr",
     "output_type": "stream",
     "text": [
      "Ep: 8842|4449255 steps|Loss: 0.2753|Reward: 19.0:  55%|▌| 8842/16000 [17:08:20<23:14:26, 11.6"
     ]
    },
    {
     "name": "stdout",
     "output_type": "stream",
     "text": [
      "------- Evaluating --------\n"
     ]
    },
    {
     "name": "stderr",
     "output_type": "stream",
     "text": [
      "Ep: 8842|4449255 steps|Loss: 0.2753|Reward: 19.0:  55%|▌| 8842/16000 [17:08:36<23:14:26, 11.6"
     ]
    },
    {
     "name": "stdout",
     "output_type": "stream",
     "text": [
      "Evaluation reward (average per episode) 25.3\n",
      "---------------------------\n"
     ]
    },
    {
     "name": "stderr",
     "output_type": "stream",
     "text": [
      "Ep: 8896|4499355 steps|Loss: 0.2302|Reward: 25.0:  56%|▌| 8896/16000 [17:20:45<28:28:37, 14.4"
     ]
    },
    {
     "name": "stdout",
     "output_type": "stream",
     "text": [
      "------- Evaluating --------\n"
     ]
    },
    {
     "name": "stderr",
     "output_type": "stream",
     "text": [
      "Ep: 8896|4499355 steps|Loss: 0.2302|Reward: 25.0:  56%|▌| 8896/16000 [17:21:01<28:28:37, 14.4"
     ]
    },
    {
     "name": "stdout",
     "output_type": "stream",
     "text": [
      "Evaluation reward (average per episode) 22.181818181818183\n",
      "---------------------------\n"
     ]
    },
    {
     "name": "stderr",
     "output_type": "stream",
     "text": [
      "Ep: 8950|4549573 steps|Loss: 0.3132|Reward: 30.0:  56%|▌| 8950/16000 [17:33:11<27:05:45, 13.8"
     ]
    },
    {
     "name": "stdout",
     "output_type": "stream",
     "text": [
      "------- Evaluating --------\n"
     ]
    },
    {
     "name": "stderr",
     "output_type": "stream",
     "text": [
      "Ep: 8950|4549573 steps|Loss: 0.3132|Reward: 30.0:  56%|▌| 8950/16000 [17:33:27<27:05:45, 13.8"
     ]
    },
    {
     "name": "stdout",
     "output_type": "stream",
     "text": [
      "Evaluation reward (average per episode) 23.90909090909091\n",
      "---------------------------\n"
     ]
    },
    {
     "name": "stderr",
     "output_type": "stream",
     "text": [
      "Ep: 9005|4599597 steps|Loss: 0.306|Reward: 21.0:  56%|▌| 9005/16000 [17:45:32<25:44:26, 13.25"
     ]
    },
    {
     "name": "stdout",
     "output_type": "stream",
     "text": [
      "------- Evaluating --------\n"
     ]
    },
    {
     "name": "stderr",
     "output_type": "stream",
     "text": [
      "Ep: 9005|4599597 steps|Loss: 0.306|Reward: 21.0:  56%|▌| 9005/16000 [17:45:48<25:44:26, 13.25"
     ]
    },
    {
     "name": "stdout",
     "output_type": "stream",
     "text": [
      "Evaluation reward (average per episode) 25.6\n",
      "---------------------------\n"
     ]
    },
    {
     "name": "stderr",
     "output_type": "stream",
     "text": [
      "Ep: 9062|4649692 steps|Loss: 0.2309|Reward: 28.0:  57%|▌| 9062/16000 [17:57:54<23:07:01, 12.0"
     ]
    },
    {
     "name": "stdout",
     "output_type": "stream",
     "text": [
      "------- Evaluating --------\n"
     ]
    },
    {
     "name": "stderr",
     "output_type": "stream",
     "text": [
      "Ep: 9062|4649692 steps|Loss: 0.2309|Reward: 28.0:  57%|▌| 9062/16000 [17:58:09<23:07:01, 12.0"
     ]
    },
    {
     "name": "stdout",
     "output_type": "stream",
     "text": [
      "Evaluation reward (average per episode) 23.636363636363637\n",
      "---------------------------\n"
     ]
    },
    {
     "name": "stderr",
     "output_type": "stream",
     "text": [
      "Ep: 9117|4699734 steps|Loss: 0.228|Reward: 30.0:  57%|▌| 9117/16000 [18:10:18<26:40:38, 13.95"
     ]
    },
    {
     "name": "stdout",
     "output_type": "stream",
     "text": [
      "------- Evaluating --------\n"
     ]
    },
    {
     "name": "stderr",
     "output_type": "stream",
     "text": [
      "Ep: 9117|4699734 steps|Loss: 0.228|Reward: 30.0:  57%|▌| 9117/16000 [18:10:34<26:40:38, 13.95"
     ]
    },
    {
     "name": "stdout",
     "output_type": "stream",
     "text": [
      "Evaluation reward (average per episode) 24.181818181818183\n",
      "---------------------------\n"
     ]
    },
    {
     "name": "stderr",
     "output_type": "stream",
     "text": [
      "Ep: 9175|4749664 steps|Loss: 0.2621|Reward: 37.0:  57%|▌| 9175/16000 [18:22:44<30:25:50, 16.0"
     ]
    },
    {
     "name": "stdout",
     "output_type": "stream",
     "text": [
      "------- Evaluating --------\n"
     ]
    },
    {
     "name": "stderr",
     "output_type": "stream",
     "text": [
      "Ep: 9175|4749664 steps|Loss: 0.2621|Reward: 37.0:  57%|▌| 9175/16000 [18:23:00<30:25:50, 16.0"
     ]
    },
    {
     "name": "stdout",
     "output_type": "stream",
     "text": [
      "Evaluation reward (average per episode) 25.6\n",
      "---------------------------\n"
     ]
    },
    {
     "name": "stderr",
     "output_type": "stream",
     "text": [
      "Ep: 9232|4799024 steps|Loss: 0.1957|Reward: 25.0:  58%|▌| 9232/16000 [18:35:11<24:42:55, 13.1"
     ]
    },
    {
     "name": "stdout",
     "output_type": "stream",
     "text": [
      "------- Evaluating --------\n"
     ]
    },
    {
     "name": "stderr",
     "output_type": "stream",
     "text": [
      "Ep: 9232|4799024 steps|Loss: 0.1957|Reward: 25.0:  58%|▌| 9232/16000 [18:35:27<24:42:55, 13.1"
     ]
    },
    {
     "name": "stdout",
     "output_type": "stream",
     "text": [
      "Evaluation reward (average per episode) 23.272727272727273\n",
      "---------------------------\n"
     ]
    },
    {
     "name": "stderr",
     "output_type": "stream",
     "text": [
      "Ep: 9290|4849573 steps|Loss: 0.1866|Reward: 11.0:  58%|▌| 9290/16000 [18:47:29<17:55:58,  9.6"
     ]
    },
    {
     "name": "stdout",
     "output_type": "stream",
     "text": [
      "------- Evaluating --------\n"
     ]
    },
    {
     "name": "stderr",
     "output_type": "stream",
     "text": [
      "Ep: 9290|4849573 steps|Loss: 0.1866|Reward: 11.0:  58%|▌| 9290/16000 [18:47:45<17:55:58,  9.6"
     ]
    },
    {
     "name": "stdout",
     "output_type": "stream",
     "text": [
      "Evaluation reward (average per episode) 21.416666666666668\n",
      "---------------------------\n"
     ]
    },
    {
     "name": "stderr",
     "output_type": "stream",
     "text": [
      "Ep: 9345|4899762 steps|Loss: 0.1808|Reward: 23.0:  58%|▌| 9345/16000 [18:59:45<27:13:49, 14.7"
     ]
    },
    {
     "name": "stdout",
     "output_type": "stream",
     "text": [
      "------- Evaluating --------\n"
     ]
    },
    {
     "name": "stderr",
     "output_type": "stream",
     "text": [
      "Ep: 9345|4899762 steps|Loss: 0.1808|Reward: 23.0:  58%|▌| 9345/16000 [19:00:01<27:13:49, 14.7"
     ]
    },
    {
     "name": "stdout",
     "output_type": "stream",
     "text": [
      "Evaluation reward (average per episode) 23.90909090909091\n",
      "---------------------------\n"
     ]
    },
    {
     "name": "stderr",
     "output_type": "stream",
     "text": [
      "Ep: 9400|4949559 steps|Loss: 0.1863|Reward: 21.0:  59%|▌| 9400/16000 [19:12:03<27:54:37, 15.2"
     ]
    },
    {
     "name": "stdout",
     "output_type": "stream",
     "text": [
      "------- Evaluating --------\n"
     ]
    },
    {
     "name": "stderr",
     "output_type": "stream",
     "text": [
      "Ep: 9400|4949559 steps|Loss: 0.1863|Reward: 21.0:  59%|▌| 9400/16000 [19:12:18<27:54:37, 15.2"
     ]
    },
    {
     "name": "stdout",
     "output_type": "stream",
     "text": [
      "Evaluation reward (average per episode) 26.3\n",
      "---------------------------\n"
     ]
    },
    {
     "name": "stderr",
     "output_type": "stream",
     "text": [
      "Ep: 9452|4998944 steps|Loss: 0.1605|Reward: 27.0:  59%|▌| 9452/16000 [19:24:20<24:52:57, 13.6"
     ]
    },
    {
     "name": "stdout",
     "output_type": "stream",
     "text": [
      "------- Evaluating --------\n"
     ]
    },
    {
     "name": "stderr",
     "output_type": "stream",
     "text": [
      "Ep: 9453|5000009 steps|Loss: 0.496|Reward: 28.0:  59%|▌| 9453/16000 [19:24:36<34:30:14, 18.97"
     ]
    },
    {
     "name": "stdout",
     "output_type": "stream",
     "text": [
      "Evaluation reward (average per episode) 28.22222222222222\n",
      "---------------------------\n"
     ]
    },
    {
     "name": "stderr",
     "output_type": "stream",
     "text": [
      "Ep: 9504|5049476 steps|Loss: 0.2312|Reward: 37.0:  59%|▌| 9504/16000 [19:36:38<28:18:28, 15.6"
     ]
    },
    {
     "name": "stdout",
     "output_type": "stream",
     "text": [
      "------- Evaluating --------\n"
     ]
    },
    {
     "name": "stderr",
     "output_type": "stream",
     "text": [
      "Ep: 9504|5049476 steps|Loss: 0.2312|Reward: 37.0:  59%|▌| 9504/16000 [19:36:54<28:18:28, 15.6"
     ]
    },
    {
     "name": "stdout",
     "output_type": "stream",
     "text": [
      "Evaluation reward (average per episode) 25.8\n",
      "---------------------------\n"
     ]
    },
    {
     "name": "stderr",
     "output_type": "stream",
     "text": [
      "Ep: 9557|5099889 steps|Loss: 0.1808|Reward: 28.0:  60%|▌| 9557/16000 [19:48:57<26:00:30, 14.5"
     ]
    },
    {
     "name": "stdout",
     "output_type": "stream",
     "text": [
      "------- Evaluating --------\n"
     ]
    },
    {
     "name": "stderr",
     "output_type": "stream",
     "text": [
      "Ep: 9557|5099889 steps|Loss: 0.1808|Reward: 28.0:  60%|▌| 9557/16000 [19:49:13<26:00:30, 14.5"
     ]
    },
    {
     "name": "stdout",
     "output_type": "stream",
     "text": [
      "Evaluation reward (average per episode) 23.363636363636363\n",
      "---------------------------\n"
     ]
    },
    {
     "name": "stderr",
     "output_type": "stream",
     "text": [
      "Ep: 9609|5149557 steps|Loss: 0.4447|Reward: 28.0:  60%|▌| 9609/16000 [20:01:17<25:39:02, 14.4"
     ]
    },
    {
     "name": "stdout",
     "output_type": "stream",
     "text": [
      "------- Evaluating --------\n"
     ]
    },
    {
     "name": "stderr",
     "output_type": "stream",
     "text": [
      "Ep: 9609|5149557 steps|Loss: 0.4447|Reward: 28.0:  60%|▌| 9609/16000 [20:01:33<25:39:02, 14.4"
     ]
    },
    {
     "name": "stdout",
     "output_type": "stream",
     "text": [
      "Evaluation reward (average per episode) 27.77777777777778\n",
      "---------------------------\n"
     ]
    },
    {
     "name": "stderr",
     "output_type": "stream",
     "text": [
      "Ep: 9664|5199625 steps|Loss: 0.255|Reward: 24.0:  60%|▌| 9664/16000 [20:13:37<25:43:25, 14.62"
     ]
    },
    {
     "name": "stdout",
     "output_type": "stream",
     "text": [
      "------- Evaluating --------\n"
     ]
    },
    {
     "name": "stderr",
     "output_type": "stream",
     "text": [
      "Ep: 9664|5199625 steps|Loss: 0.255|Reward: 24.0:  60%|▌| 9664/16000 [20:13:54<25:43:25, 14.62"
     ]
    },
    {
     "name": "stdout",
     "output_type": "stream",
     "text": [
      "Evaluation reward (average per episode) 25.3\n",
      "---------------------------\n"
     ]
    },
    {
     "name": "stderr",
     "output_type": "stream",
     "text": [
      "Ep: 9717|5249851 steps|Loss: 0.212|Reward: 26.0:  61%|▌| 9717/16000 [20:25:58<27:16:35, 15.63"
     ]
    },
    {
     "name": "stdout",
     "output_type": "stream",
     "text": [
      "------- Evaluating --------\n"
     ]
    },
    {
     "name": "stderr",
     "output_type": "stream",
     "text": [
      "Ep: 9717|5249851 steps|Loss: 0.212|Reward: 26.0:  61%|▌| 9717/16000 [20:26:13<27:16:35, 15.63"
     ]
    },
    {
     "name": "stdout",
     "output_type": "stream",
     "text": [
      "Evaluation reward (average per episode) 26.0\n",
      "---------------------------\n"
     ]
    },
    {
     "name": "stderr",
     "output_type": "stream",
     "text": [
      "Ep: 9770|5299082 steps|Loss: 0.1791|Reward: 18.0:  61%|▌| 9770/16000 [20:38:20<23:16:12, 13.4"
     ]
    },
    {
     "name": "stdout",
     "output_type": "stream",
     "text": [
      "------- Evaluating --------\n"
     ]
    },
    {
     "name": "stderr",
     "output_type": "stream",
     "text": [
      "Ep: 9771|5300003 steps|Loss: 0.2117|Reward: 26.0:  61%|▌| 9771/16000 [20:38:36<31:32:25, 18.2"
     ]
    },
    {
     "name": "stdout",
     "output_type": "stream",
     "text": [
      "Evaluation reward (average per episode) 24.3\n",
      "---------------------------\n"
     ]
    },
    {
     "name": "stderr",
     "output_type": "stream",
     "text": [
      "Ep: 9827|5349998 steps|Loss: 0.1864|Reward: 23.0:  61%|▌| 9827/16000 [20:50:41<22:04:13, 12.8"
     ]
    },
    {
     "name": "stdout",
     "output_type": "stream",
     "text": [
      "------- Evaluating --------\n"
     ]
    },
    {
     "name": "stderr",
     "output_type": "stream",
     "text": [
      "Ep: 9827|5349998 steps|Loss: 0.1864|Reward: 23.0:  61%|▌| 9827/16000 [20:50:57<22:04:13, 12.8"
     ]
    },
    {
     "name": "stdout",
     "output_type": "stream",
     "text": [
      "Evaluation reward (average per episode) 22.333333333333332\n",
      "---------------------------\n"
     ]
    },
    {
     "name": "stderr",
     "output_type": "stream",
     "text": [
      "Ep: 9880|5399699 steps|Loss: 0.106|Reward: 13.0:  62%|▌| 9880/16000 [21:03:04<21:43:32, 12.78"
     ]
    },
    {
     "name": "stdout",
     "output_type": "stream",
     "text": [
      "------- Evaluating --------\n"
     ]
    },
    {
     "name": "stderr",
     "output_type": "stream",
     "text": [
      "Ep: 9880|5399699 steps|Loss: 0.106|Reward: 13.0:  62%|▌| 9880/16000 [21:03:20<21:43:32, 12.78"
     ]
    },
    {
     "name": "stdout",
     "output_type": "stream",
     "text": [
      "Evaluation reward (average per episode) 27.0\n",
      "---------------------------\n"
     ]
    },
    {
     "name": "stderr",
     "output_type": "stream",
     "text": [
      "Ep: 9933|5449155 steps|Loss: 0.1905|Reward: 27.0:  62%|▌| 9933/16000 [21:15:28<22:07:54, 13.1"
     ]
    },
    {
     "name": "stdout",
     "output_type": "stream",
     "text": [
      "------- Evaluating --------\n"
     ]
    },
    {
     "name": "stderr",
     "output_type": "stream",
     "text": [
      "Ep: 9933|5449155 steps|Loss: 0.1905|Reward: 27.0:  62%|▌| 9933/16000 [21:15:43<22:07:54, 13.1"
     ]
    },
    {
     "name": "stdout",
     "output_type": "stream",
     "text": [
      "Evaluation reward (average per episode) 21.833333333333332\n",
      "---------------------------\n"
     ]
    },
    {
     "name": "stderr",
     "output_type": "stream",
     "text": [
      "Ep: 9989|5499739 steps|Loss: 0.4933|Reward: 26.0:  62%|▌| 9989/16000 [21:27:37<23:00:18, 13.7"
     ]
    },
    {
     "name": "stdout",
     "output_type": "stream",
     "text": [
      "------- Evaluating --------\n"
     ]
    },
    {
     "name": "stderr",
     "output_type": "stream",
     "text": [
      "Ep: 9989|5499739 steps|Loss: 0.4933|Reward: 26.0:  62%|▌| 9989/16000 [21:27:53<23:00:18, 13.7"
     ]
    },
    {
     "name": "stdout",
     "output_type": "stream",
     "text": [
      "Evaluation reward (average per episode) 26.1\n",
      "---------------------------\n"
     ]
    },
    {
     "name": "stderr",
     "output_type": "stream",
     "text": [
      "Ep: 10043|5549040 steps|Loss: 0.2191|Reward: 26.0:  63%|▋| 10043/16000 [21:40:04<22:32:28, 13"
     ]
    },
    {
     "name": "stdout",
     "output_type": "stream",
     "text": [
      "------- Evaluating --------\n"
     ]
    },
    {
     "name": "stderr",
     "output_type": "stream",
     "text": [
      "Ep: 10043|5549040 steps|Loss: 0.2191|Reward: 26.0:  63%|▋| 10043/16000 [21:40:19<22:32:28, 13"
     ]
    },
    {
     "name": "stdout",
     "output_type": "stream",
     "text": [
      "Evaluation reward (average per episode) 26.8\n",
      "---------------------------\n"
     ]
    },
    {
     "name": "stderr",
     "output_type": "stream",
     "text": [
      "Ep: 10096|5599979 steps|Loss: 0.1599|Reward: 22.0:  63%|▋| 10096/16000 [21:52:21<21:21:21, 13"
     ]
    },
    {
     "name": "stdout",
     "output_type": "stream",
     "text": [
      "------- Evaluating --------\n"
     ]
    },
    {
     "name": "stderr",
     "output_type": "stream",
     "text": [
      "Ep: 10096|5599979 steps|Loss: 0.1599|Reward: 22.0:  63%|▋| 10096/16000 [21:52:37<21:21:21, 13"
     ]
    },
    {
     "name": "stdout",
     "output_type": "stream",
     "text": [
      "Evaluation reward (average per episode) 26.9\n",
      "---------------------------\n"
     ]
    },
    {
     "name": "stderr",
     "output_type": "stream",
     "text": [
      "Ep: 10148|5649241 steps|Loss: 0.2376|Reward: 31.0:  63%|▋| 10148/16000 [22:04:36<21:48:23, 13"
     ]
    },
    {
     "name": "stdout",
     "output_type": "stream",
     "text": [
      "------- Evaluating --------\n"
     ]
    },
    {
     "name": "stderr",
     "output_type": "stream",
     "text": [
      "Ep: 10148|5649241 steps|Loss: 0.2376|Reward: 31.0:  63%|▋| 10148/16000 [22:04:51<21:48:23, 13"
     ]
    },
    {
     "name": "stdout",
     "output_type": "stream",
     "text": [
      "Evaluation reward (average per episode) 26.7\n",
      "---------------------------\n"
     ]
    },
    {
     "name": "stderr",
     "output_type": "stream",
     "text": [
      "Ep: 10200|5699702 steps|Loss: 0.2327|Reward: 36.0:  64%|▋| 10200/16000 [22:17:04<25:02:37, 15"
     ]
    },
    {
     "name": "stdout",
     "output_type": "stream",
     "text": [
      "------- Evaluating --------\n"
     ]
    },
    {
     "name": "stderr",
     "output_type": "stream",
     "text": [
      "Ep: 10200|5699702 steps|Loss: 0.2327|Reward: 36.0:  64%|▋| 10200/16000 [22:17:20<25:02:37, 15"
     ]
    },
    {
     "name": "stdout",
     "output_type": "stream",
     "text": [
      "Evaluation reward (average per episode) 25.1\n",
      "---------------------------\n"
     ]
    },
    {
     "name": "stderr",
     "output_type": "stream",
     "text": [
      "Ep: 10251|5748898 steps|Loss: 0.1993|Reward: 35.0:  64%|▋| 10251/16000 [22:29:33<24:23:38, 15"
     ]
    },
    {
     "name": "stdout",
     "output_type": "stream",
     "text": [
      "------- Evaluating --------\n"
     ]
    },
    {
     "name": "stderr",
     "output_type": "stream",
     "text": [
      "Ep: 10252|5750008 steps|Loss: 0.2279|Reward: 32.0:  64%|▋| 10252/16000 [22:29:49<32:40:10, 20"
     ]
    },
    {
     "name": "stdout",
     "output_type": "stream",
     "text": [
      "Evaluation reward (average per episode) 23.272727272727273\n",
      "---------------------------\n"
     ]
    },
    {
     "name": "stderr",
     "output_type": "stream",
     "text": [
      "Ep: 10302|5799841 steps|Loss: 0.114|Reward: 21.0:  64%|▋| 10302/16000 [22:42:03<19:56:41, 12."
     ]
    },
    {
     "name": "stdout",
     "output_type": "stream",
     "text": [
      "------- Evaluating --------\n"
     ]
    },
    {
     "name": "stderr",
     "output_type": "stream",
     "text": [
      "Ep: 10302|5799841 steps|Loss: 0.114|Reward: 21.0:  64%|▋| 10302/16000 [22:42:18<19:56:41, 12."
     ]
    },
    {
     "name": "stdout",
     "output_type": "stream",
     "text": [
      "Evaluation reward (average per episode) 25.6\n",
      "---------------------------\n"
     ]
    },
    {
     "name": "stderr",
     "output_type": "stream",
     "text": [
      "Ep: 10303|5800957 steps|Loss: 0.1565|Reward: 28.0:  64%|▋| 10303/16000 [22:42:39<12:33:28,  7\n"
     ]
    },
    {
     "ename": "KeyboardInterrupt",
     "evalue": "",
     "output_type": "error",
     "traceback": [
      "\u001b[0;31m---------------------------------------------------------------------------\u001b[0m",
      "\u001b[0;31mKeyboardInterrupt\u001b[0m                         Traceback (most recent call last)",
      "Cell \u001b[0;32mIn[13], line 36\u001b[0m\n\u001b[1;32m     34\u001b[0m     optimizer\u001b[38;5;241m.\u001b[39mzero_grad()\n\u001b[1;32m     35\u001b[0m     loss\u001b[38;5;241m.\u001b[39mbackward()\n\u001b[0;32m---> 36\u001b[0m     \u001b[43moptimizer\u001b[49m\u001b[38;5;241;43m.\u001b[39;49m\u001b[43mstep\u001b[49m\u001b[43m(\u001b[49m\u001b[43m)\u001b[49m\n\u001b[1;32m     38\u001b[0m \u001b[38;5;66;03m# ---------- Logging and update various stuffs ------------\u001b[39;00m\n\u001b[1;32m     39\u001b[0m     \u001b[38;5;66;03m# update target model if available\u001b[39;00m\n\u001b[1;32m     40\u001b[0m     \u001b[38;5;28;01mif\u001b[39;00m USE_TARGET_MODEL:\n",
      "File \u001b[0;32m/opt/homebrew/Caskroom/miniforge/base/envs/pytorch/lib/python3.9/site-packages/torch/optim/optimizer.py:280\u001b[0m, in \u001b[0;36mOptimizer.profile_hook_step.<locals>.wrapper\u001b[0;34m(*args, **kwargs)\u001b[0m\n\u001b[1;32m    276\u001b[0m         \u001b[38;5;28;01melse\u001b[39;00m:\n\u001b[1;32m    277\u001b[0m             \u001b[38;5;28;01mraise\u001b[39;00m \u001b[38;5;167;01mRuntimeError\u001b[39;00m(\u001b[38;5;124mf\u001b[39m\u001b[38;5;124m\"\u001b[39m\u001b[38;5;132;01m{\u001b[39;00mfunc\u001b[38;5;132;01m}\u001b[39;00m\u001b[38;5;124m must return None or a tuple of (new_args, new_kwargs),\u001b[39m\u001b[38;5;124m\"\u001b[39m\n\u001b[1;32m    278\u001b[0m                                \u001b[38;5;124mf\u001b[39m\u001b[38;5;124m\"\u001b[39m\u001b[38;5;124mbut got \u001b[39m\u001b[38;5;132;01m{\u001b[39;00mresult\u001b[38;5;132;01m}\u001b[39;00m\u001b[38;5;124m.\u001b[39m\u001b[38;5;124m\"\u001b[39m)\n\u001b[0;32m--> 280\u001b[0m out \u001b[38;5;241m=\u001b[39m \u001b[43mfunc\u001b[49m\u001b[43m(\u001b[49m\u001b[38;5;241;43m*\u001b[39;49m\u001b[43margs\u001b[49m\u001b[43m,\u001b[49m\u001b[43m \u001b[49m\u001b[38;5;241;43m*\u001b[39;49m\u001b[38;5;241;43m*\u001b[39;49m\u001b[43mkwargs\u001b[49m\u001b[43m)\u001b[49m\n\u001b[1;32m    281\u001b[0m \u001b[38;5;28mself\u001b[39m\u001b[38;5;241m.\u001b[39m_optimizer_step_code()\n\u001b[1;32m    283\u001b[0m \u001b[38;5;66;03m# call optimizer step post hooks\u001b[39;00m\n",
      "File \u001b[0;32m/opt/homebrew/Caskroom/miniforge/base/envs/pytorch/lib/python3.9/site-packages/torch/optim/optimizer.py:33\u001b[0m, in \u001b[0;36m_use_grad_for_differentiable.<locals>._use_grad\u001b[0;34m(self, *args, **kwargs)\u001b[0m\n\u001b[1;32m     31\u001b[0m \u001b[38;5;28;01mtry\u001b[39;00m:\n\u001b[1;32m     32\u001b[0m     torch\u001b[38;5;241m.\u001b[39mset_grad_enabled(\u001b[38;5;28mself\u001b[39m\u001b[38;5;241m.\u001b[39mdefaults[\u001b[38;5;124m'\u001b[39m\u001b[38;5;124mdifferentiable\u001b[39m\u001b[38;5;124m'\u001b[39m])\n\u001b[0;32m---> 33\u001b[0m     ret \u001b[38;5;241m=\u001b[39m \u001b[43mfunc\u001b[49m\u001b[43m(\u001b[49m\u001b[38;5;28;43mself\u001b[39;49m\u001b[43m,\u001b[49m\u001b[43m \u001b[49m\u001b[38;5;241;43m*\u001b[39;49m\u001b[43margs\u001b[49m\u001b[43m,\u001b[49m\u001b[43m \u001b[49m\u001b[38;5;241;43m*\u001b[39;49m\u001b[38;5;241;43m*\u001b[39;49m\u001b[43mkwargs\u001b[49m\u001b[43m)\u001b[49m\n\u001b[1;32m     34\u001b[0m \u001b[38;5;28;01mfinally\u001b[39;00m:\n\u001b[1;32m     35\u001b[0m     torch\u001b[38;5;241m.\u001b[39mset_grad_enabled(prev_grad)\n",
      "File \u001b[0;32m/opt/homebrew/Caskroom/miniforge/base/envs/pytorch/lib/python3.9/site-packages/torch/optim/adam.py:143\u001b[0m, in \u001b[0;36mAdam.step\u001b[0;34m(self, closure)\u001b[0m\n\u001b[1;32m    132\u001b[0m     beta1, beta2 \u001b[38;5;241m=\u001b[39m group[\u001b[38;5;124m'\u001b[39m\u001b[38;5;124mbetas\u001b[39m\u001b[38;5;124m'\u001b[39m]\n\u001b[1;32m    134\u001b[0m     \u001b[38;5;28mself\u001b[39m\u001b[38;5;241m.\u001b[39m_init_group(\n\u001b[1;32m    135\u001b[0m         group,\n\u001b[1;32m    136\u001b[0m         params_with_grad,\n\u001b[0;32m   (...)\u001b[0m\n\u001b[1;32m    140\u001b[0m         max_exp_avg_sqs,\n\u001b[1;32m    141\u001b[0m         state_steps)\n\u001b[0;32m--> 143\u001b[0m     \u001b[43madam\u001b[49m\u001b[43m(\u001b[49m\n\u001b[1;32m    144\u001b[0m \u001b[43m        \u001b[49m\u001b[43mparams_with_grad\u001b[49m\u001b[43m,\u001b[49m\n\u001b[1;32m    145\u001b[0m \u001b[43m        \u001b[49m\u001b[43mgrads\u001b[49m\u001b[43m,\u001b[49m\n\u001b[1;32m    146\u001b[0m \u001b[43m        \u001b[49m\u001b[43mexp_avgs\u001b[49m\u001b[43m,\u001b[49m\n\u001b[1;32m    147\u001b[0m \u001b[43m        \u001b[49m\u001b[43mexp_avg_sqs\u001b[49m\u001b[43m,\u001b[49m\n\u001b[1;32m    148\u001b[0m \u001b[43m        \u001b[49m\u001b[43mmax_exp_avg_sqs\u001b[49m\u001b[43m,\u001b[49m\n\u001b[1;32m    149\u001b[0m \u001b[43m        \u001b[49m\u001b[43mstate_steps\u001b[49m\u001b[43m,\u001b[49m\n\u001b[1;32m    150\u001b[0m \u001b[43m        \u001b[49m\u001b[43mamsgrad\u001b[49m\u001b[38;5;241;43m=\u001b[39;49m\u001b[43mgroup\u001b[49m\u001b[43m[\u001b[49m\u001b[38;5;124;43m'\u001b[39;49m\u001b[38;5;124;43mamsgrad\u001b[39;49m\u001b[38;5;124;43m'\u001b[39;49m\u001b[43m]\u001b[49m\u001b[43m,\u001b[49m\n\u001b[1;32m    151\u001b[0m \u001b[43m        \u001b[49m\u001b[43mbeta1\u001b[49m\u001b[38;5;241;43m=\u001b[39;49m\u001b[43mbeta1\u001b[49m\u001b[43m,\u001b[49m\n\u001b[1;32m    152\u001b[0m \u001b[43m        \u001b[49m\u001b[43mbeta2\u001b[49m\u001b[38;5;241;43m=\u001b[39;49m\u001b[43mbeta2\u001b[49m\u001b[43m,\u001b[49m\n\u001b[1;32m    153\u001b[0m \u001b[43m        \u001b[49m\u001b[43mlr\u001b[49m\u001b[38;5;241;43m=\u001b[39;49m\u001b[43mgroup\u001b[49m\u001b[43m[\u001b[49m\u001b[38;5;124;43m'\u001b[39;49m\u001b[38;5;124;43mlr\u001b[39;49m\u001b[38;5;124;43m'\u001b[39;49m\u001b[43m]\u001b[49m\u001b[43m,\u001b[49m\n\u001b[1;32m    154\u001b[0m \u001b[43m        \u001b[49m\u001b[43mweight_decay\u001b[49m\u001b[38;5;241;43m=\u001b[39;49m\u001b[43mgroup\u001b[49m\u001b[43m[\u001b[49m\u001b[38;5;124;43m'\u001b[39;49m\u001b[38;5;124;43mweight_decay\u001b[39;49m\u001b[38;5;124;43m'\u001b[39;49m\u001b[43m]\u001b[49m\u001b[43m,\u001b[49m\n\u001b[1;32m    155\u001b[0m \u001b[43m        \u001b[49m\u001b[43meps\u001b[49m\u001b[38;5;241;43m=\u001b[39;49m\u001b[43mgroup\u001b[49m\u001b[43m[\u001b[49m\u001b[38;5;124;43m'\u001b[39;49m\u001b[38;5;124;43meps\u001b[39;49m\u001b[38;5;124;43m'\u001b[39;49m\u001b[43m]\u001b[49m\u001b[43m,\u001b[49m\n\u001b[1;32m    156\u001b[0m \u001b[43m        \u001b[49m\u001b[43mmaximize\u001b[49m\u001b[38;5;241;43m=\u001b[39;49m\u001b[43mgroup\u001b[49m\u001b[43m[\u001b[49m\u001b[38;5;124;43m'\u001b[39;49m\u001b[38;5;124;43mmaximize\u001b[39;49m\u001b[38;5;124;43m'\u001b[39;49m\u001b[43m]\u001b[49m\u001b[43m,\u001b[49m\n\u001b[1;32m    157\u001b[0m \u001b[43m        \u001b[49m\u001b[43mforeach\u001b[49m\u001b[38;5;241;43m=\u001b[39;49m\u001b[43mgroup\u001b[49m\u001b[43m[\u001b[49m\u001b[38;5;124;43m'\u001b[39;49m\u001b[38;5;124;43mforeach\u001b[39;49m\u001b[38;5;124;43m'\u001b[39;49m\u001b[43m]\u001b[49m\u001b[43m,\u001b[49m\n\u001b[1;32m    158\u001b[0m \u001b[43m        \u001b[49m\u001b[43mcapturable\u001b[49m\u001b[38;5;241;43m=\u001b[39;49m\u001b[43mgroup\u001b[49m\u001b[43m[\u001b[49m\u001b[38;5;124;43m'\u001b[39;49m\u001b[38;5;124;43mcapturable\u001b[39;49m\u001b[38;5;124;43m'\u001b[39;49m\u001b[43m]\u001b[49m\u001b[43m,\u001b[49m\n\u001b[1;32m    159\u001b[0m \u001b[43m        \u001b[49m\u001b[43mdifferentiable\u001b[49m\u001b[38;5;241;43m=\u001b[39;49m\u001b[43mgroup\u001b[49m\u001b[43m[\u001b[49m\u001b[38;5;124;43m'\u001b[39;49m\u001b[38;5;124;43mdifferentiable\u001b[39;49m\u001b[38;5;124;43m'\u001b[39;49m\u001b[43m]\u001b[49m\u001b[43m,\u001b[49m\n\u001b[1;32m    160\u001b[0m \u001b[43m        \u001b[49m\u001b[43mfused\u001b[49m\u001b[38;5;241;43m=\u001b[39;49m\u001b[43mgroup\u001b[49m\u001b[43m[\u001b[49m\u001b[38;5;124;43m'\u001b[39;49m\u001b[38;5;124;43mfused\u001b[39;49m\u001b[38;5;124;43m'\u001b[39;49m\u001b[43m]\u001b[49m\u001b[43m,\u001b[49m\n\u001b[1;32m    161\u001b[0m \u001b[43m        \u001b[49m\u001b[43mgrad_scale\u001b[49m\u001b[38;5;241;43m=\u001b[39;49m\u001b[38;5;28;43mgetattr\u001b[39;49m\u001b[43m(\u001b[49m\u001b[38;5;28;43mself\u001b[39;49m\u001b[43m,\u001b[49m\u001b[43m \u001b[49m\u001b[38;5;124;43m\"\u001b[39;49m\u001b[38;5;124;43mgrad_scale\u001b[39;49m\u001b[38;5;124;43m\"\u001b[39;49m\u001b[43m,\u001b[49m\u001b[43m \u001b[49m\u001b[38;5;28;43;01mNone\u001b[39;49;00m\u001b[43m)\u001b[49m\u001b[43m,\u001b[49m\n\u001b[1;32m    162\u001b[0m \u001b[43m        \u001b[49m\u001b[43mfound_inf\u001b[49m\u001b[38;5;241;43m=\u001b[39;49m\u001b[38;5;28;43mgetattr\u001b[39;49m\u001b[43m(\u001b[49m\u001b[38;5;28;43mself\u001b[39;49m\u001b[43m,\u001b[49m\u001b[43m \u001b[49m\u001b[38;5;124;43m\"\u001b[39;49m\u001b[38;5;124;43mfound_inf\u001b[39;49m\u001b[38;5;124;43m\"\u001b[39;49m\u001b[43m,\u001b[49m\u001b[43m \u001b[49m\u001b[38;5;28;43;01mNone\u001b[39;49;00m\u001b[43m)\u001b[49m\u001b[43m,\u001b[49m\n\u001b[1;32m    163\u001b[0m \u001b[43m    \u001b[49m\u001b[43m)\u001b[49m\n\u001b[1;32m    165\u001b[0m \u001b[38;5;28;01mreturn\u001b[39;00m loss\n",
      "File \u001b[0;32m/opt/homebrew/Caskroom/miniforge/base/envs/pytorch/lib/python3.9/site-packages/torch/optim/adam.py:283\u001b[0m, in \u001b[0;36madam\u001b[0;34m(params, grads, exp_avgs, exp_avg_sqs, max_exp_avg_sqs, state_steps, foreach, capturable, differentiable, fused, grad_scale, found_inf, amsgrad, beta1, beta2, lr, weight_decay, eps, maximize)\u001b[0m\n\u001b[1;32m    280\u001b[0m \u001b[38;5;28;01melse\u001b[39;00m:\n\u001b[1;32m    281\u001b[0m     func \u001b[38;5;241m=\u001b[39m _single_tensor_adam\n\u001b[0;32m--> 283\u001b[0m \u001b[43mfunc\u001b[49m\u001b[43m(\u001b[49m\u001b[43mparams\u001b[49m\u001b[43m,\u001b[49m\n\u001b[1;32m    284\u001b[0m \u001b[43m     \u001b[49m\u001b[43mgrads\u001b[49m\u001b[43m,\u001b[49m\n\u001b[1;32m    285\u001b[0m \u001b[43m     \u001b[49m\u001b[43mexp_avgs\u001b[49m\u001b[43m,\u001b[49m\n\u001b[1;32m    286\u001b[0m \u001b[43m     \u001b[49m\u001b[43mexp_avg_sqs\u001b[49m\u001b[43m,\u001b[49m\n\u001b[1;32m    287\u001b[0m \u001b[43m     \u001b[49m\u001b[43mmax_exp_avg_sqs\u001b[49m\u001b[43m,\u001b[49m\n\u001b[1;32m    288\u001b[0m \u001b[43m     \u001b[49m\u001b[43mstate_steps\u001b[49m\u001b[43m,\u001b[49m\n\u001b[1;32m    289\u001b[0m \u001b[43m     \u001b[49m\u001b[43mamsgrad\u001b[49m\u001b[38;5;241;43m=\u001b[39;49m\u001b[43mamsgrad\u001b[49m\u001b[43m,\u001b[49m\n\u001b[1;32m    290\u001b[0m \u001b[43m     \u001b[49m\u001b[43mbeta1\u001b[49m\u001b[38;5;241;43m=\u001b[39;49m\u001b[43mbeta1\u001b[49m\u001b[43m,\u001b[49m\n\u001b[1;32m    291\u001b[0m \u001b[43m     \u001b[49m\u001b[43mbeta2\u001b[49m\u001b[38;5;241;43m=\u001b[39;49m\u001b[43mbeta2\u001b[49m\u001b[43m,\u001b[49m\n\u001b[1;32m    292\u001b[0m \u001b[43m     \u001b[49m\u001b[43mlr\u001b[49m\u001b[38;5;241;43m=\u001b[39;49m\u001b[43mlr\u001b[49m\u001b[43m,\u001b[49m\n\u001b[1;32m    293\u001b[0m \u001b[43m     \u001b[49m\u001b[43mweight_decay\u001b[49m\u001b[38;5;241;43m=\u001b[39;49m\u001b[43mweight_decay\u001b[49m\u001b[43m,\u001b[49m\n\u001b[1;32m    294\u001b[0m \u001b[43m     \u001b[49m\u001b[43meps\u001b[49m\u001b[38;5;241;43m=\u001b[39;49m\u001b[43meps\u001b[49m\u001b[43m,\u001b[49m\n\u001b[1;32m    295\u001b[0m \u001b[43m     \u001b[49m\u001b[43mmaximize\u001b[49m\u001b[38;5;241;43m=\u001b[39;49m\u001b[43mmaximize\u001b[49m\u001b[43m,\u001b[49m\n\u001b[1;32m    296\u001b[0m \u001b[43m     \u001b[49m\u001b[43mcapturable\u001b[49m\u001b[38;5;241;43m=\u001b[39;49m\u001b[43mcapturable\u001b[49m\u001b[43m,\u001b[49m\n\u001b[1;32m    297\u001b[0m \u001b[43m     \u001b[49m\u001b[43mdifferentiable\u001b[49m\u001b[38;5;241;43m=\u001b[39;49m\u001b[43mdifferentiable\u001b[49m\u001b[43m,\u001b[49m\n\u001b[1;32m    298\u001b[0m \u001b[43m     \u001b[49m\u001b[43mgrad_scale\u001b[49m\u001b[38;5;241;43m=\u001b[39;49m\u001b[43mgrad_scale\u001b[49m\u001b[43m,\u001b[49m\n\u001b[1;32m    299\u001b[0m \u001b[43m     \u001b[49m\u001b[43mfound_inf\u001b[49m\u001b[38;5;241;43m=\u001b[39;49m\u001b[43mfound_inf\u001b[49m\u001b[43m)\u001b[49m\n",
      "File \u001b[0;32m/opt/homebrew/Caskroom/miniforge/base/envs/pytorch/lib/python3.9/site-packages/torch/optim/adam.py:395\u001b[0m, in \u001b[0;36m_single_tensor_adam\u001b[0;34m(params, grads, exp_avgs, exp_avg_sqs, max_exp_avg_sqs, state_steps, grad_scale, found_inf, amsgrad, beta1, beta2, lr, weight_decay, eps, maximize, capturable, differentiable)\u001b[0m\n\u001b[1;32m    392\u001b[0m \u001b[38;5;28;01melse\u001b[39;00m:\n\u001b[1;32m    393\u001b[0m     denom \u001b[38;5;241m=\u001b[39m (exp_avg_sq\u001b[38;5;241m.\u001b[39msqrt() \u001b[38;5;241m/\u001b[39m bias_correction2_sqrt)\u001b[38;5;241m.\u001b[39madd_(eps)\n\u001b[0;32m--> 395\u001b[0m \u001b[43mparam\u001b[49m\u001b[38;5;241;43m.\u001b[39;49m\u001b[43maddcdiv_\u001b[49m\u001b[43m(\u001b[49m\u001b[43mexp_avg\u001b[49m\u001b[43m,\u001b[49m\u001b[43m \u001b[49m\u001b[43mdenom\u001b[49m\u001b[43m,\u001b[49m\u001b[43m \u001b[49m\u001b[43mvalue\u001b[49m\u001b[38;5;241;43m=\u001b[39;49m\u001b[38;5;241;43m-\u001b[39;49m\u001b[43mstep_size\u001b[49m\u001b[43m)\u001b[49m\n",
      "\u001b[0;31mKeyboardInterrupt\u001b[0m: "
     ]
    }
   ],
   "source": [
    "with tqdm(total=EPISODES, unit=\"episode\") as pbar:\n",
    "\n",
    "    # main training loop\n",
    "    for i in range(EPISODES):\n",
    "        curr_state = env.reset()\n",
    "        curr_state = np.asarray(curr_state) #convert to np array\n",
    "        loss_val = 0 # loss value for curr episode\n",
    "        reward_val = 0 # reward value for curr episode\n",
    "        # keep track of actions chosen during episode\n",
    "        action_count = {i:0 for i in range(env.action_space.n)}\n",
    "\n",
    "        while True:\n",
    "        # ---------- Epsilon decay logic ------------\n",
    "            # decay over the first million frames then stay at 0.1\n",
    "            decay = (DECAY_STEPS - steps)/DECAY_STEPS if steps < DECAY_STEPS else 0\n",
    "            epsilon = END_EPSILON + decay*(START_EPSILON-END_EPSILON)\n",
    "            \n",
    "        # ---------- Training steps logic ------------\n",
    "            # execute action\n",
    "            action = choose_action(model, curr_state, device, epsilon=epsilon)\n",
    "            observation, reward, done, _ = env.step(action)\n",
    "            observation = np.asarray(observation) #convert to np array\n",
    "            # save observation\n",
    "            replay_memory.push(curr_state, action, reward, observation, done)\n",
    "\n",
    "            # update curr_state\n",
    "            curr_state = observation\n",
    "\n",
    "            # sample and compute loss\n",
    "            loss = loss_fn(model, replay_memory, BATCH_SIZE, DISCOUNT, target_model=target_model, device=device)\n",
    "            loss_item = loss.item()\n",
    "            \n",
    "            # zero out gradient before backward pass\n",
    "            optimizer.zero_grad()\n",
    "            loss.backward()\n",
    "            optimizer.step()\n",
    "\n",
    "        # ---------- Logging and update various stuffs ------------\n",
    "            # update target model if available\n",
    "            if USE_TARGET_MODEL:\n",
    "                if steps%UPDATE_TARGET:\n",
    "                    target_model.load_state_dict(model.state_dict())\n",
    "\n",
    "            # update loss as the max loss during episode\n",
    "            loss_val = max(loss_item, loss_val)\n",
    "            # add steps count for epsilon decay\n",
    "            steps+=1\n",
    "            # update total reward of episode\n",
    "            reward_val += reward\n",
    "            # update action count\n",
    "            action_count[action]+=1\n",
    "\n",
    "            if steps%CHECKPOINT_FREQ==0:\n",
    "                with open(f\"{SAVE_DIR}/checkpoints/{steps}.pt\", 'wb') as f:\n",
    "                    torch.save(model.state_dict(), f)\n",
    "\n",
    "            if steps%EVAL_FREQ==0:\n",
    "                pbar.write(\"------- Evaluating --------\")\n",
    "                # eval steps\n",
    "                eval_reward = eval_model(model, ENV, eval_steps=10000, device=device)   \n",
    "#                 eval_rewards.append(eval_reward)\n",
    "                pbar.write(f\"Evaluation reward (average per episode) {eval_reward}\")\n",
    "                pbar.write(\"---------------------------\")\n",
    "                writer.add_scalar(\"Eval | Average reward/episode over Steps\", eval_reward, steps)\n",
    "\n",
    "            if done: \n",
    "                # finish an episode\n",
    "                break\n",
    "                \n",
    "        # ------ Update training episode stats, use tqdm instead of printing -----\n",
    "        pbar.update(1)\n",
    "        pbar.set_description(desc=f\"Ep: {i+1}|{steps} steps|Loss: {round(loss_val, 4)}|Reward: {reward_val}\")\n",
    "        \n",
    "        # ------- Log training loss and training episode rewards for tensorboard\n",
    "        if i%LOG_FREQ==0:\n",
    "#             losses.append(loss_val)\n",
    "#             rewards.append(reward_val)\n",
    "            writer.add_scalars(\"Action Chosen in Episode\", {\"NOOP\":action_count[0],\n",
    "                                                        \"FIRE\":action_count[1], \n",
    "                                                        \"RIGHT\":action_count[2], \n",
    "                                                        \"LEFT\":action_count[3]}, i)\n",
    "            writer.add_scalar(\"Train | Loss over Episode\", loss_val, i)\n",
    "            writer.add_scalar(\"Train | Reward over Episode\", reward_val, i)\n",
    "            \n",
    "            \n",
    "print(\"FINISH TRAINING PROCESS\")\n",
    "print(f\"Finish in {steps} steps, Highest episode reward {max(rewards)}\")"
   ]
  },
  {
   "cell_type": "code",
   "execution_count": 23,
   "metadata": {},
   "outputs": [],
   "source": [
    "# close tensorboard if terminate early\n",
    "writer.close()"
   ]
  },
  {
   "cell_type": "markdown",
   "metadata": {},
   "source": [
    "### Plot reward and loss"
   ]
  },
  {
   "cell_type": "code",
   "execution_count": 84,
   "metadata": {},
   "outputs": [
    {
     "data": {
      "text/plain": [
       "[<matplotlib.lines.Line2D at 0x2a79f7670>]"
      ]
     },
     "execution_count": 84,
     "metadata": {},
     "output_type": "execute_result"
    },
    {
     "data": {
      "image/png": "[encoded data removed]",
      "text/plain": [
       "<Figure size 640x480 with 1 Axes>"
      ]
     },
     "metadata": {},
     "output_type": "display_data"
    }
   ],
   "source": [
    "# plt.title(\"Training reward\")\n",
    "# plt.plot(range(0, len(rewards)*LOG_FREQ, LOG_FREQ), rewards)\n",
    "# plt.savefig(\"breakout_dqn_5100000_rewards.png\")"
   ]
  },
  {
   "cell_type": "code",
   "execution_count": 85,
   "metadata": {},
   "outputs": [
    {
     "data": {
      "text/plain": [
       "[<matplotlib.lines.Line2D at 0x2c82fa340>]"
      ]
     },
     "execution_count": 85,
     "metadata": {},
     "output_type": "execute_result"
    },
    {
     "data": {
      "image/png": "[encoded data removed]",
      "text/plain": [
       "<Figure size 640x480 with 1 Axes>"
      ]
     },
     "metadata": {},
     "output_type": "display_data"
    }
   ],
   "source": [
    "# plt.title(\"Training loss\")\n",
    "# plt.plot(range(0, len(losses)*LOG_FREQ, LOG_FREQ), losses)\n",
    "# plt.savefig(\"breakout_dqn_5100000_loss.png\")"
   ]
  },
  {
   "cell_type": "code",
   "execution_count": 86,
   "metadata": {},
   "outputs": [
    {
     "data": {
      "text/plain": [
       "[<matplotlib.lines.Line2D at 0x2c8464f10>]"
      ]
     },
     "execution_count": 86,
     "metadata": {},
     "output_type": "execute_result"
    },
    {
     "data": {
      "image/png": "[encoded data removed]",
      "text/plain": [
       "<Figure size 640x480 with 1 Axes>"
      ]
     },
     "metadata": {},
     "output_type": "display_data"
    }
   ],
   "source": [
    "# plt.title(\"Evaluation reward\")\n",
    "# plt.plot(range(0, len(eval_rewards)*EVAL_FREQ, EVAL_FREQ), eval_rewards)"
   ]
  },
  {
   "cell_type": "markdown",
   "metadata": {},
   "source": [
    "### Save model"
   ]
  },
  {
   "cell_type": "code",
   "execution_count": 14,
   "metadata": {},
   "outputs": [],
   "source": [
    "with open('breakout_wtarget_dqn.pt', 'wb') as f:\n",
    "    torch.save(model.state_dict(), f)"
   ]
  },
  {
   "cell_type": "code",
   "execution_count": null,
   "metadata": {},
   "outputs": [],
   "source": []
  }
 ],
 "metadata": {
  "kernelspec": {
   "display_name": "pytorch",
   "language": "python",
   "name": "pytorch"
  },
  "language_info": {
   "codemirror_mode": {
    "name": "ipython",
    "version": 3
   },
   "file_extension": ".py",
   "mimetype": "text/x-python",
   "name": "python",
   "nbconvert_exporter": "python",
   "pygments_lexer": "ipython3",
   "version": "3.9.15"
  }
 },
 "nbformat": 4,
 "nbformat_minor": 2
}
