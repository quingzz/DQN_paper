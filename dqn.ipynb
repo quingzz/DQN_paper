{
 "cells": [
  {
   "cell_type": "markdown",
   "metadata": {},
   "source": [
    "## Recreate DQN model from Deepmind Atari paper\n",
    "\n",
    "References:   \n",
    "Paper: https://arxiv.org/pdf/1312.5602.pdf    \n",
    "Pytorch tutorial: https://pytorch.org/tutorials/intermediate/reinforcement_q_learning.html"
   ]
  },
  {
   "cell_type": "code",
   "execution_count": 1,
   "metadata": {},
   "outputs": [],
   "source": [
    "# import relevant packages\n",
    "import torch\n",
    "from collections import namedtuple, deque\n",
    "import random\n",
    "from torch import nn\n",
    "from torch import optim\n",
    "import torch.nn.functional as F\n",
    "import matplotlib.pyplot as plt \n",
    "import gym\n",
    "import pandas as pd\n",
    "import numpy as np\n",
    "import cv2"
   ]
  },
  {
   "cell_type": "markdown",
   "metadata": {},
   "source": [
    "### Experience Replay   \n",
    "Data structure to store past experiences and sample some examples for training, the idea is to ***\"alleviate the problems of correlated data and non-stationary distributions\"***"
   ]
  },
  {
   "cell_type": "code",
   "execution_count": 2,
   "metadata": {},
   "outputs": [],
   "source": [
    "# Use named tuple to represent Experience referred in paper\n",
    "Experience = namedtuple('Experience', [\"state\", \"action\", \"reward\", \"successor\", \"done\"])\n",
    "\n",
    "class ReplayMemory():\n",
    "    def __init__(self, capacity):\n",
    "        self.memory = deque([], maxlen=capacity)\n",
    "        \n",
    "    def push(self, *args):\n",
    "        \"\"\"add new experience\"\"\"\n",
    "        self.memory.append(Experience(*args))\n",
    "        \n",
    "    def sample(self, batch_size):\n",
    "        \"\"\"randomly sample experiences from Replay Memory\"\"\"\n",
    "        return random.sample(self.memory, batch_size)\n",
    "    \n",
    "    def __len__(self):\n",
    "        \"\"\"Override default len() method\"\"\"\n",
    "        return len(self.memory)"
   ]
  },
  {
   "cell_type": "markdown",
   "metadata": {},
   "source": [
    "### Training Model  \n",
    "Build model based on the paper's description \n",
    "> The input to the neural network consists is an 84 × 84 × 4 image produced by φ. The first hidden layer convolves **16 8 × 8 filters with stride 4** with the input image and applies a **rectifier nonlinearity**. The second hidden layer convolves **32 4 × 4 filters with stride 2**, again followed by a **rectifier nonlinearity**. The final hidden layer is fully-connected and consists of **256 rectifier units**. The output layer is a fully- connected linear layer with a **single output for each valid action**."
   ]
  },
  {
   "cell_type": "code",
   "execution_count": 3,
   "metadata": {},
   "outputs": [],
   "source": [
    "class DQN_model(nn.Module):\n",
    "    def __init__(self, input_shape, n_actions):\n",
    "        super(DQN_model, self).__init__()\n",
    "        self.layer1 = nn.Conv2d(input_shape[0], 16, kernel_size=(8,8), stride=4)\n",
    "        self.layer2 = nn.Conv2d(16, 32, (4,4), stride=2)\n",
    "        # output shape after EACH convo would be ((dimension - filter size)/stride +1) **2 (for 2 sides)\n",
    "                                                                            # * 4 (stack) * output_channel\n",
    "        dim_size = (((84-8)/4 + 1)-4)/2+1\n",
    "        self.layer3 = nn.Linear(int((dim_size)**2 * 32), 256)\n",
    "        self.output = nn.Linear(256, n_actions) \n",
    "        \n",
    "    def forward(self, x):\n",
    "        x = F.relu(self.layer1(x))\n",
    "        x = F.relu(self.layer2(x))\n",
    "        x = torch.flatten(x, start_dim=1)\n",
    "        x = F.relu(self.layer3(x))\n",
    "        x = self.output(x)\n",
    "        \n",
    "        return x"
   ]
  },
  {
   "cell_type": "markdown",
   "metadata": {},
   "source": [
    "### Prepare environment   \n",
    "The paper specifies several preprocessing steps to apply to the raw frames\n",
    ">210 × 160 pixel images with a 128 color palette, can be computationally demanding, so we apply a basic preprocessing step aimed at reducing the input dimensionality. The raw frames are preprocessed by first converting their RGB representation to **gray-scale** and **down-sampling it to a 110×84 image**. The final input representation is obtained by cropping an 84 × 84 region of the image that roughly captures the playing area.\n",
    "\n",
    "Using gym, we can apply **GrayScaleObservation** wrapper to get gray-scale representation, and instead of cropping to game play section, a **resize wrapper** is applied\n",
    "\n",
    "<br>\n",
    "\n",
    "> For the experiments in this paper, the function φ from algorithm 1 applies this preprocessing to the **last 4 frames of a history and stacks them** to produce the input to the Q-function.\n",
    "\n",
    "For this, we can apply **FrameStack** wrapper to get a stacks of 4 frames\n",
    "\n",
    "<br>\n",
    "\n",
    "> Since the scale of scores varies greatly from game to game, we fixed all positive rewards to be 1 and all negative rewards to be −1, leaving 0 rewards unchanged.\n",
    "\n",
    "\n",
    "Lastly, we can apply **ClipReward** wrapper to crop reward to specified range\n",
    "<br>"
   ]
  },
  {
   "cell_type": "code",
   "execution_count": 4,
   "metadata": {
    "scrolled": false
   },
   "outputs": [
    {
     "name": "stdout",
     "output_type": "stream",
     "text": [
      "Observation shape:  (4, 84, 84)\n"
     ]
    },
    {
     "name": "stderr",
     "output_type": "stream",
     "text": [
      "A.L.E: Arcade Learning Environment (version 0.7.4+069f8bd)\n",
      "[Powered by Stella]\n"
     ]
    },
    {
     "data": {
      "image/png": "[encoded data removed]",
      "text/plain": [
       "<Figure size 1000x1000 with 4 Axes>"
      ]
     },
     "metadata": {},
     "output_type": "display_data"
    }
   ],
   "source": [
    "from gym.wrappers import GrayScaleObservation, ResizeObservation, FrameStack\n",
    "from gym.utils.env_checker import check_env\n",
    "\n",
    "# Wrapper to clip reward, taken from documentation\n",
    "class ClipReward(gym.RewardWrapper):\n",
    "    def __init__(self, env, min_reward, max_reward):\n",
    "        super().__init__(env)\n",
    "        self.min_reward = min_reward\n",
    "        self.max_reward = max_reward\n",
    "        self.reward_range = (min_reward, max_reward)\n",
    "    \n",
    "    def reward(self, reward):\n",
    "        return np.clip(reward, self.min_reward, self.max_reward)\n",
    "    \n",
    "# observation wrapper for cropping\n",
    "class AtariCropping(gym.ObservationWrapper):\n",
    "    def __init__(self, env):\n",
    "        \"\"\"A gym wrapper that crops, scales image into the desired shapes and optionally grayscales it.\"\"\"\n",
    "        super().__init__(env)\n",
    "        \n",
    "        old_shape = env.observation_space.shape\n",
    "        # get new shape after cropping\n",
    "        new_shape = (old_shape[0]-50,) + old_shape[1:]\n",
    "        self.observation_space = gym.spaces.Box(low=0, high=255, shape=new_shape)\n",
    "\n",
    "    def observation(self, img):\n",
    "        \"\"\"what happens to each observation\"\"\"\n",
    "        # crop image (top and bottom, top from 34, bottom remove last 16)\n",
    "        img = img[34:-16, :, :]\n",
    "              \n",
    "        return img\n",
    "\n",
    "def generate_env(env_name):\n",
    "    env = gym.make(env_name)\n",
    "    env = ClipReward(env, -1, 1)\n",
    "    env = AtariCropping(env)\n",
    "    # gray scale frame\n",
    "    env = GrayScaleObservation(env, keep_dim=False)\n",
    "    # resize frame to 84×84 image\n",
    "    env = ResizeObservation(env, (84, 84))\n",
    "    # stack 4 frames (equivalent to what phi does in paper) \n",
    "    env = FrameStack(env, num_stack=4)\n",
    "    \n",
    "    return env\n",
    "    \n",
    "env = generate_env(\"Breakout-v4\")\n",
    "env.reset()\n",
    "observation, reward, done, _ = env.step(env.action_space.sample())\n",
    "print(\"Observation shape: \", env.observation_space.shape)\n",
    "\n",
    "# visualize frames in each step \n",
    "_, axs = plt.subplots(1, 4, figsize=(10,10))\n",
    "for i, image in enumerate(observation):\n",
    "    axs[i].imshow(image, cmap=plt.cm.binary)\n",
    "plt.show()"
   ]
  },
  {
   "cell_type": "markdown",
   "metadata": {},
   "source": [
    "### Function to determine action\n",
    "Apply $\\epsilon$ greedy algorithm to choose action   \n",
    "* Choose random action at probability $\\epsilon$\n",
    "* Choose optimal action (determined by model) at probability (1-$\\epsilon$)"
   ]
  },
  {
   "cell_type": "code",
   "execution_count": 82,
   "metadata": {},
   "outputs": [],
   "source": [
    "import random\n",
    "\n",
    "def choose_action(model, state, device, epsilon=0.1):\n",
    "    if random.random()<=epsilon: #exploration\n",
    "        return env.action_space.sample()\n",
    "    else:\n",
    "#         squeeze to remove last dim of 1 (for gray scaled val) and add 1 dim at first (1 input instead of batch)\n",
    "        state = torch.Tensor(state).squeeze().unsqueeze(0).to(device)\n",
    "        # predict\n",
    "        pred = model(state)\n",
    "        return int(torch.argmax(pred.squeeze()).item())"
   ]
  },
  {
   "cell_type": "markdown",
   "metadata": {},
   "source": [
    "### Loss function  \n",
    "As mentioned in the paper, the function to optimize would be the following\n",
    "> $$L_i(θ_i) = E_{s,a∼ρ(·)} [(y_i − Q (s, a; θ_i))]^2 $$\n",
    "> where: $$y_i = E_{s′∼\\mathcal{E}} [r + γ max_{a′} Q(s′, a′; θ_{i−1})|s, a]$$\n",
    "\n",
    "Notation translation:\n",
    "- θ refers to weights of model, $θ_i$ refers to model (with weights) at iteration i\n",
    "- $Q (s, a; θ_i)$ (prediction) is Q value at (s, a) estimated by model\n",
    "- $y_i$ (target function) is calculated using Bellman equation, but future reward (aka Q(s', a')) is (again) estimated by the model\n",
    "\n",
    "Code translation:\n",
    "- $Q (s, a; θ_i)$ is calculated by plug in state for model to predict, and get the output at action a (state and action sampled from experience replay)\n",
    "- $max_{a′} Q(s′, a′; θ_{i−1}$ in $y_i$ is calculated by plug in successor state, then get the max output out of all actions\n",
    "- loss is square root of $y_i$ (expected Q) - $Q (s, a; θ_i)$ (prediction)"
   ]
  },
  {
   "cell_type": "code",
   "execution_count": 154,
   "metadata": {},
   "outputs": [],
   "source": [
    "def loss_fn(model, replay_memory, batch_size, discount, target_model=None, device=\"mps\"):\n",
    "    batch = replay_memory.sample(batch_size)\n",
    "\n",
    "#     Transpose batch, ref: https://stackoverflow.com/questions/19339/transpose-unzip-function-inverse-of-zip/19343#19343\n",
    "    batch = Experience(*zip(*batch))\n",
    "    \n",
    "#     convert to a single np.array for faster tensor conversion\n",
    "    state = np.array(batch.state)\n",
    "    successor = np.array(batch.successor)\n",
    "            \n",
    "    # Tensor-ify state, action, reward, successor, done (use torch tensor to have grad)\n",
    "    state = torch.Tensor(state).squeeze().div_(255).to(device)\n",
    "    action = torch.Tensor(batch.action).to(device)\n",
    "    reward = torch.Tensor(batch.reward).to(device)\n",
    "    successor = torch.Tensor(successor).squeeze().div_(255).to(device)\n",
    "    done = torch.tensor(batch.done, dtype=torch.int32).to(device)\n",
    "\n",
    "    # use model to get old qs and successor qs\n",
    "    old_qs = model(state)\n",
    "    # if target model is provided -> use that to compute successor instead\n",
    "    successor_qs = model(successor) if target_model is None else target_model(successor) \n",
    "    \n",
    "#   check for exploding/diminissing problem\n",
    "#     print(torch.isnan(old_qs).any())\n",
    "        \n",
    "    # get the list of actions in shape 1xbatch_size, and use it as indices for old_qs\n",
    "    action = action.unsqueeze(1).type(torch.int64)\n",
    "    # get predicted qs at action, return tensor of list of batch_size items\n",
    "    old_qs = old_qs.gather(1, action).squeeze()\n",
    "    # get max q in successor to estimate future reward\n",
    "    successor_qs = successor_qs.max(1)[0]\n",
    "            \n",
    "    # compute expected qs\n",
    "    # multiplying (1-done) would result in not adding future reward when at end state (done==1)\n",
    "    expected_qs = reward + successor_qs*discount*(1-done)\n",
    "    expected_qs = expected_qs.detach() # shouldnt include this in grad graph\n",
    "        \n",
    "    # compute loss, return mean loss of batch \n",
    "    loss = (expected_qs-old_qs).pow(2).mean()\n",
    "    \n",
    "#     print(\"Old Qs \", old_qs)\n",
    "#     print(\"Expected Qs \", expected_qs)\n",
    "#     print(\"Loss \", loss.item())\n",
    "    \n",
    "    \n",
    "    # improvement for stability - use different loss \n",
    "    # loss_func = nn.HuberLoss()\n",
    "    # loss = loss_func(old_qs, expected_qs)\n",
    "    \n",
    "    # return predicted qs for visualization\n",
    "    return loss, old_qs.data"
   ]
  },
  {
   "cell_type": "markdown",
   "metadata": {},
   "source": [
    "### Hyper parameters"
   ]
  },
  {
   "cell_type": "code",
   "execution_count": 155,
   "metadata": {},
   "outputs": [],
   "source": [
    "ENV = \"BreakoutDeterministic-v4\"\n",
    "LEARNING_RATE = 0.00001 if ENV == \"BreakoutDeterministic-v4\" else 0.00025\n",
    "REPLAY_LEN = 1000000\n",
    "BATCH_SIZE = 32\n",
    "EPISODES = 16000\n",
    "DISCOUNT = 0.99 #aka gamma in Bellman's equation\n",
    "SAVE_FREQ = 50 #number of episodes in-between saves\n",
    "START_EPSILON= 1\n",
    "END_EPSILON= 0.1\n",
    "DECAY_FRAMES=1000000\n",
    "USE_TARGET_MODEL=False # whether to have target model or not\n",
    "UPDATE_TARGET=1000 #frames to run before updating the target model"
   ]
  },
  {
   "cell_type": "markdown",
   "metadata": {},
   "source": [
    "### Setting up variables before training"
   ]
  },
  {
   "cell_type": "code",
   "execution_count": 156,
   "metadata": {},
   "outputs": [
    {
     "name": "stdout",
     "output_type": "stream",
     "text": [
      "Device: mps\n",
      "Current Atari environment: BreakoutDeterministic-v4\n",
      "Learning rate: 1e-05\n",
      "Initial length of replay memory: 32\n"
     ]
    }
   ],
   "source": [
    "# check for mps, cuda or cpu\n",
    "device = torch.device(\"mps\" if torch.backends.mps.is_available() else \"cuda\" if torch.cuda.is_available() else \"cpu\")\n",
    "\n",
    "print(f\"Device: {device}\")\n",
    "model = DQN_model(env.observation_space.shape, env.action_space.n).to(device)\n",
    "target_model = None\n",
    "if USE_TARGET_MODEL:\n",
    "    target_model = DQN_model(env.observation_space.shape, env.action_space.n).to(device)\n",
    "    target_model.load_state_dict(model.state_dict())\n",
    "\n",
    "# optimizer based on paper\n",
    "# optimizer = optim.RMSprop(model.parameters(), lr=LEARNING_RATE)\n",
    "\n",
    "# optimizer for first training (not-so-happy accident =)))\n",
    "# optimizer = optim.SGD(model.parameters(), lr=LEARNING_RATE)\n",
    "\n",
    "# recommended (less computational heavy compared to RMSprop)\n",
    "optimizer = optim.Adam(model.parameters(), lr=LEARNING_RATE)\n",
    "    \n",
    "# array to store info per episodes\n",
    "episodes = []\n",
    "losses = []\n",
    "rewards = []\n",
    "pred_qs = []\n",
    "\n",
    "# count to keep track of episodes and frames (for epsilon decay)\n",
    "count = 0\n",
    "frames = 0\n",
    "\n",
    "# build env\n",
    "env = generate_env(ENV)\n",
    "print(f\"Current Atari environment: {ENV}\")\n",
    "print(f\"Learning rate: {LEARNING_RATE}\")\n",
    "\n",
    "# Initialize replay memory with len of replay buffer\n",
    "curr_state = env.reset()\n",
    "curr_state = np.asarray(curr_state) #convert to np array\n",
    "replay_memory = ReplayMemory(capacity=REPLAY_LEN)\n",
    "for i in range(BATCH_SIZE):\n",
    "    action = env.action_space.sample()\n",
    "    observation, reward, done, _ = env.step(action)\n",
    "    \n",
    "    observation = np.asarray(observation) #convert to np array\n",
    "    replay_memory.push(curr_state, action, reward, observation, done)\n",
    "    \n",
    "    # update curr state\n",
    "    curr_state = observation\n",
    "    \n",
    "print(f\"Initial length of replay memory: {len(replay_memory)}\")"
   ]
  },
  {
   "cell_type": "markdown",
   "metadata": {},
   "source": [
    "### Training process"
   ]
  },
  {
   "cell_type": "code",
   "execution_count": null,
   "metadata": {},
   "outputs": [
    {
     "name": "stdout",
     "output_type": "stream",
     "text": [
      "Frame:0 Action 3 Loss: 0.00061 Reward: 0.0 Epsilon: 1.0\n",
      "Done with episode 1 in 186 frames\n",
      "Loss: 0.03144501522183418 Episode total reward: 1.0 Predicted Qs: 0.17218682169914246\n",
      "Actions chosen counts:  {0: 44, 1: 37, 2: 55, 3: 50}\n",
      "Replay memory len: 218\n",
      "----------------\n",
      "Frame:200 Action 0 Loss: 8e-05 Reward: 0.0 Epsilon: 0.99982\n",
      "Done with episode 2 in 315 frames\n",
      "Loss: 0.03667745739221573 Episode total reward: 0.0 Predicted Qs: 0.4432365298271179\n",
      "Actions chosen counts:  {0: 33, 1: 34, 2: 33, 3: 29}\n",
      "Replay memory len: 347\n",
      "----------------\n",
      "Frame:400 Action 3 Loss: 0.00011 Reward: 0.0 Epsilon: 0.9996400000000001\n",
      "Done with episode 3 in 456 frames\n",
      "Loss: 0.050070181488990784 Episode total reward: 0.0 Predicted Qs: 1.1741889715194702\n",
      "Actions chosen counts:  {0: 32, 1: 33, 2: 42, 3: 34}\n",
      "Replay memory len: 488\n",
      "----------------\n",
      "Frame:600 Action 2 Loss: 0.0001 Reward: 0.0 Epsilon: 0.9994599999999999\n",
      "Done with episode 4 in 692 frames\n",
      "Loss: 0.08908814191818237 Episode total reward: 2.0 Predicted Qs: 1.4373823404312134\n",
      "Actions chosen counts:  {0: 54, 1: 69, 2: 61, 3: 52}\n",
      "Replay memory len: 724\n",
      "----------------\n",
      "Frame:800 Action 1 Loss: 5e-05 Reward: 0.0 Epsilon: 0.99928\n",
      "Done with episode 5 in 882 frames\n",
      "Loss: 0.10279723256826401 Episode total reward: 2.0 Predicted Qs: 1.2821612358093262\n",
      "Actions chosen counts:  {0: 49, 1: 42, 2: 44, 3: 55}\n",
      "Replay memory len: 914\n",
      "----------------\n",
      "Frame:1000 Action 0 Loss: 5e-05 Reward: 0.0 Epsilon: 0.9991\n",
      "Done with episode 6 in 1062 frames\n",
      "Loss: 0.10583684593439102 Episode total reward: 1.0 Predicted Qs: 1.3238378763198853\n",
      "Actions chosen counts:  {0: 45, 1: 44, 2: 49, 3: 42}\n",
      "Replay memory len: 1094\n",
      "----------------\n",
      "Frame:1200 Action 2 Loss: 4e-05 Reward: 0.0 Epsilon: 0.99892\n",
      "Done with episode 7 in 1267 frames\n",
      "Loss: 0.08721722662448883 Episode total reward: 2.0 Predicted Qs: 0.9637987613677979\n",
      "Actions chosen counts:  {0: 51, 1: 58, 2: 46, 3: 50}\n",
      "Replay memory len: 1299\n",
      "----------------\n",
      "Frame:1400 Action 0 Loss: 0.02356 Reward: 0.0 Epsilon: 0.9987400000000001\n",
      "Done with episode 8 in 1406 frames\n",
      "Loss: 0.06161808222532272 Episode total reward: 0.0 Predicted Qs: 0.886995255947113\n",
      "Actions chosen counts:  {0: 37, 1: 33, 2: 39, 3: 30}\n",
      "Replay memory len: 1438\n",
      "----------------\n",
      "Done with episode 9 in 1553 frames\n",
      "Loss: 0.06214252859354019 Episode total reward: 0.0 Predicted Qs: 0.8571643233299255\n",
      "Actions chosen counts:  {0: 35, 1: 39, 2: 37, 3: 36}\n",
      "Replay memory len: 1585\n",
      "----------------\n",
      "Frame:1600 Action 0 Loss: 2e-05 Reward: 0.0 Epsilon: 0.99856\n",
      "Done with episode 10 in 1680 frames\n",
      "Loss: 0.04775981232523918 Episode total reward: 0.0 Predicted Qs: 0.8093650341033936\n",
      "Actions chosen counts:  {0: 31, 1: 32, 2: 26, 3: 38}\n",
      "Replay memory len: 1712\n",
      "----------------\n",
      "Frame:1800 Action 0 Loss: 7e-05 Reward: 0.0 Epsilon: 0.9983799999999999\n",
      "Done with episode 11 in 1856 frames\n",
      "Loss: 0.07399635761976242 Episode total reward: 1.0 Predicted Qs: 0.7031655311584473\n",
      "Actions chosen counts:  {0: 32, 1: 47, 2: 45, 3: 52}\n",
      "Replay memory len: 1888\n",
      "----------------\n",
      "Frame:2000 Action 2 Loss: 7e-05 Reward: 0.0 Epsilon: 0.9982\n",
      "Done with episode 12 in 2024 frames\n",
      "Loss: 0.06501521915197372 Episode total reward: 1.0 Predicted Qs: 0.7367717623710632\n",
      "Actions chosen counts:  {0: 46, 1: 35, 2: 40, 3: 47}\n",
      "Replay memory len: 2056\n",
      "----------------\n",
      "Frame:2200 Action 2 Loss: 2e-05 Reward: 0.0 Epsilon: 0.99802\n",
      "Done with episode 13 in 2312 frames\n",
      "Loss: 0.06694810092449188 Episode total reward: 4.0 Predicted Qs: 0.8534271717071533\n",
      "Actions chosen counts:  {0: 69, 1: 79, 2: 61, 3: 79}\n",
      "Replay memory len: 2344\n",
      "----------------\n",
      "Frame:2400 Action 2 Loss: 3e-05 Reward: 0.0 Epsilon: 0.9978400000000001\n",
      "Done with episode 14 in 2548 frames\n",
      "Loss: 0.06361377984285355 Episode total reward: 3.0 Predicted Qs: 0.9719653725624084\n",
      "Actions chosen counts:  {0: 65, 1: 66, 2: 47, 3: 58}\n",
      "Replay memory len: 2580\n",
      "----------------\n",
      "Frame:2600 Action 3 Loss: 5e-05 Reward: 0.0 Epsilon: 0.99766\n",
      "Done with episode 15 in 2679 frames\n",
      "Loss: 0.059505995362997055 Episode total reward: 0.0 Predicted Qs: 0.9639541506767273\n",
      "Actions chosen counts:  {0: 26, 1: 46, 2: 31, 3: 28}\n",
      "Replay memory len: 2711\n",
      "----------------\n",
      "Frame:2800 Action 3 Loss: 3e-05 Reward: 0.0 Epsilon: 0.9974799999999999\n",
      "Done with episode 16 in 2839 frames\n",
      "Loss: 0.0623713880777359 Episode total reward: 1.0 Predicted Qs: 0.8128204345703125\n",
      "Actions chosen counts:  {0: 40, 1: 36, 2: 39, 3: 45}\n",
      "Replay memory len: 2871\n",
      "----------------\n",
      "Frame:3000 Action 2 Loss: 0.00018 Reward: 0.0 Epsilon: 0.9973\n",
      "Done with episode 17 in 3050 frames\n",
      "Loss: 0.0818801298737526 Episode total reward: 2.0 Predicted Qs: 1.045459270477295\n",
      "Actions chosen counts:  {0: 53, 1: 59, 2: 49, 3: 50}\n",
      "Replay memory len: 3082\n",
      "----------------\n",
      "Done with episode 18 in 3177 frames\n",
      "Loss: 0.07873629033565521 Episode total reward: 0.0 Predicted Qs: 1.2458341121673584\n",
      "Actions chosen counts:  {0: 33, 1: 35, 2: 32, 3: 27}\n",
      "Replay memory len: 3209\n",
      "----------------\n",
      "Frame:3200 Action 3 Loss: 0.06229 Reward: 0.0 Epsilon: 0.99712\n",
      "Done with episode 19 in 3317 frames\n",
      "Loss: 0.09346311539411545 Episode total reward: 0.0 Predicted Qs: 1.2505733966827393\n",
      "Actions chosen counts:  {0: 30, 1: 30, 2: 39, 3: 41}\n",
      "Replay memory len: 3349\n",
      "----------------\n",
      "Frame:3400 Action 2 Loss: 0.00016 Reward: 0.0 Epsilon: 0.99694\n",
      "Done with episode 20 in 3498 frames\n",
      "Loss: 0.10790277272462845 Episode total reward: 1.0 Predicted Qs: 1.224434494972229\n",
      "Actions chosen counts:  {0: 33, 1: 57, 2: 46, 3: 45}\n",
      "Replay memory len: 3530\n",
      "----------------\n",
      "Frame:3600 Action 1 Loss: 0.03054 Reward: 0.0 Epsilon: 0.99676\n",
      "Done with episode 21 in 3749 frames\n",
      "Loss: 0.0799928605556488 Episode total reward: 3.0 Predicted Qs: 1.155414342880249\n",
      "Actions chosen counts:  {0: 50, 1: 71, 2: 71, 3: 59}\n",
      "Replay memory len: 3781\n",
      "----------------\n",
      "Frame:3800 Action 1 Loss: 7e-05 Reward: 0.0 Epsilon: 0.99658\n",
      "Done with episode 22 in 3953 frames\n",
      "Loss: 0.12607397139072418 Episode total reward: 2.0 Predicted Qs: 1.1626900434494019\n",
      "Actions chosen counts:  {0: 50, 1: 45, 2: 65, 3: 44}\n",
      "Replay memory len: 3985\n",
      "----------------\n",
      "Frame:4000 Action 0 Loss: 0.00011 Reward: 0.0 Epsilon: 0.9964\n"
     ]
    }
   ],
   "source": [
    "# main training loop\n",
    "for i in range(EPISODES):\n",
    "    curr_state = env.reset()\n",
    "    curr_state = np.asarray(curr_state) #convert to np array\n",
    "    loss_val = 0\n",
    "    reward_val = 0\n",
    "    pred_q_val = float(\"-inf\")\n",
    "    # keep track of actions chosen during episode\n",
    "    action_count = {i:0 for i in range(env.action_space.n)}\n",
    "    \n",
    "    while True:\n",
    "        # decay over the first million frames then stay at 0.1\n",
    "        decay = (DECAY_FRAMES - frames)/DECAY_FRAMES if frames < DECAY_FRAMES else 0\n",
    "        epsilon = END_EPSILON + decay*(START_EPSILON-END_EPSILON)\n",
    "        action = choose_action(model, curr_state, device, epsilon=epsilon)\n",
    "        # execute action\n",
    "        observation, reward, done, _ = env.step(action)\n",
    "        observation = np.asarray(observation) #convert to np array\n",
    "        # save observation\n",
    "        replay_memory.push(curr_state, action, reward, observation, done)\n",
    "        \n",
    "        # update curr_state\n",
    "        curr_state = observation\n",
    "        \n",
    "        # sample and compute loss\n",
    "        loss, pred_q = loss_fn(model, replay_memory, BATCH_SIZE, DISCOUNT, target_model=target_model, device=device)\n",
    "        \n",
    "        # zero out gradient before backward pass\n",
    "        optimizer.zero_grad()\n",
    "        loss.backward()\n",
    "        optimizer.step()\n",
    "        \n",
    "        if frames%200==0:\n",
    "            # print loss and reward every 200 frames\n",
    "            print(f\"Frame:{frames} Action {action} Loss: {round(loss.item(),5)} Reward: {reward} Epsilon: {epsilon}\")\n",
    "        \n",
    "        # update target model if available\n",
    "        if USE_TARGET_MODEL:\n",
    "            if frames%UPDATE_TARGET:\n",
    "                target_model.load_state_dict(model.state_dict())\n",
    "        \n",
    "        # add frames count for epsilon decay\n",
    "        frames+=1\n",
    "        \n",
    "        # update total reward of episode\n",
    "        reward_val += reward\n",
    "        \n",
    "        # update loss as the max loss during episode\n",
    "        loss_val = max(loss.item(), loss_val)\n",
    "        \n",
    "        # update predicted q in training\n",
    "        pred_q_val = max(pred_q.max(), pred_q_val)\n",
    "        \n",
    "        # update action count\n",
    "        action_count[action]+=1\n",
    "        \n",
    "        if done: \n",
    "#             loss_val = loss.item()\n",
    "            count+=1\n",
    "            # finish an episode\n",
    "            break\n",
    "    print(f\"Done with episode {count} in {frames} frames\")\n",
    "    print(f\"Loss: {loss_val} Episode total reward: {reward_val} Predicted Qs: {pred_q_val}\")\n",
    "    print(\"Actions chosen counts: \", action_count)\n",
    "    print(f\"Replay memory len: {len(replay_memory)}\")\n",
    "    print(\"----------------\")\n",
    "    if count%SAVE_FREQ==0:\n",
    "        episodes.append(count)\n",
    "        losses.append(loss_val)\n",
    "        rewards.append(reward_val)\n",
    "        pred_qs.append(pred_q_val)\n",
    "        \n",
    "print(\"FINISH TRAINING PROCESS\")\n",
    "print(f\"Finish in {frames} frames, Highest reward {max(rewards)}\")"
   ]
  },
  {
   "cell_type": "markdown",
   "metadata": {},
   "source": [
    "### Plot reward and loss"
   ]
  },
  {
   "cell_type": "code",
   "execution_count": 31,
   "metadata": {},
   "outputs": [
    {
     "data": {
      "text/plain": [
       "[<matplotlib.lines.Line2D at 0x339f4f400>]"
      ]
     },
     "execution_count": 31,
     "metadata": {},
     "output_type": "execute_result"
    },
    {
     "data": {
      "image/png": "[encoded data removed]",
      "text/plain": [
       "<Figure size 640x480 with 1 Axes>"
      ]
     },
     "metadata": {},
     "output_type": "display_data"
    }
   ],
   "source": [
    "plt.plot(episodes, rewards)"
   ]
  },
  {
   "cell_type": "code",
   "execution_count": 32,
   "metadata": {},
   "outputs": [
    {
     "data": {
      "text/plain": [
       "[<matplotlib.lines.Line2D at 0x3811dcdc0>]"
      ]
     },
     "execution_count": 32,
     "metadata": {},
     "output_type": "execute_result"
    },
    {
     "data": {
      "image/png": "[encoded data removed]",
      "text/plain": [
       "<Figure size 640x480 with 1 Axes>"
      ]
     },
     "metadata": {},
     "output_type": "display_data"
    }
   ],
   "source": [
    "plt.plot(episodes, losses)"
   ]
  },
  {
   "cell_type": "markdown",
   "metadata": {},
   "source": [
    "### Save model"
   ]
  },
  {
   "cell_type": "code",
   "execution_count": 34,
   "metadata": {},
   "outputs": [],
   "source": [
    "with open('dqn_model_sgd_1100000.pt', 'wb') as f:\n",
    "    torch.save(model.state_dict(), f)"
   ]
  }
 ],
 "metadata": {
  "kernelspec": {
   "display_name": "pytorch",
   "language": "python",
   "name": "pytorch"
  },
  "language_info": {
   "codemirror_mode": {
    "name": "ipython",
    "version": 3
   },
   "file_extension": ".py",
   "mimetype": "text/x-python",
   "name": "python",
   "nbconvert_exporter": "python",
   "pygments_lexer": "ipython3",
   "version": "3.9.15"
  }
 },
 "nbformat": 4,
 "nbformat_minor": 2
}
