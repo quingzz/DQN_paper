{
 "cells": [
  {
   "cell_type": "markdown",
   "metadata": {},
   "source": [
    "## Create model based on paper\n",
    "\n",
    "References:   \n",
    "Paper: https://arxiv.org/pdf/1312.5602.pdf    \n",
    "Pytorch docs: https://arxiv.org/pdf/1312.5602.pdf"
   ]
  },
  {
   "cell_type": "code",
   "execution_count": 66,
   "metadata": {},
   "outputs": [],
   "source": [
    "# import relevant packages\n",
    "import torch\n",
    "from collections import namedtuple, deque\n",
    "import random\n",
    "from torch import nn\n",
    "from torch import optim\n",
    "import torch.nn.functional as F\n",
    "import matplotlib.pyplot as plt \n",
    "import gym\n",
    "import pandas as pd"
   ]
  },
  {
   "cell_type": "markdown",
   "metadata": {},
   "source": [
    "### Experience Replay  "
   ]
  },
  {
   "cell_type": "code",
   "execution_count": 4,
   "metadata": {},
   "outputs": [],
   "source": [
    "# Use named tuple to represent Experience referred in paper\n",
    "Experience = namedtuple('Experience', [\"state\", \"action\", \"reward\", \"successor\", \"done\"])\n",
    "\n",
    "class ReplayMemory():\n",
    "    def __init__(self, capacity):\n",
    "        self.memory = deque([], maxlen=capacity)\n",
    "        \n",
    "    def push(self, *args):\n",
    "        \"\"\"add new experience\"\"\"\n",
    "        self.memory.append(Experience(*args))\n",
    "        \n",
    "    def sample(self, batch_size):\n",
    "        \"\"\"randomly sample experiences from Replay Memory\"\"\"\n",
    "        return random.sample(self.memory, batch_size)\n",
    "    \n",
    "    def __len__(self):\n",
    "        \"\"\"Override default len() method\"\"\"\n",
    "        return len(self.memory)"
   ]
  },
  {
   "cell_type": "markdown",
   "metadata": {},
   "source": [
    "### Frame preprocessing function (referred as $\\phi$ in paper)"
   ]
  },
  {
   "cell_type": "code",
   "execution_count": 5,
   "metadata": {},
   "outputs": [],
   "source": [
    "def frame_preprocess(frame, prev_frames=None):\n",
    "    \"\"\"Preprocess frame as a stack of 4 frames\n",
    "        frame: current frame\n",
    "        prev_frames: array of previous frames, assumed to have len of 4\n",
    "    \"\"\"\n",
    "    \n",
    "    if not prev_frames:\n",
    "        # if there is no previous frames, stack contains 4 of the same frames\n",
    "        return [frame*4]\n",
    "    \n",
    "    return prev_frames[1:] + [frame]"
   ]
  },
  {
   "cell_type": "markdown",
   "metadata": {},
   "source": [
    "### Training Model"
   ]
  },
  {
   "cell_type": "code",
   "execution_count": 58,
   "metadata": {},
   "outputs": [],
   "source": [
    "class DQN_model(nn.Module):\n",
    "    def __init__(self, input_shape, n_actions):\n",
    "        super(DQN_model, self).__init__()\n",
    "        self.layer1 = nn.Conv2d(input_shape[0], 32, kernel_size=(8,8), stride=4)\n",
    "        self.layer2 = nn.Conv2d(32, 64, (4,4), stride=2)\n",
    "        # output shape after EACH convo would be ((dimension - filter size)/stride +1) **2 (for 2 sides)\n",
    "                                                                            # * 4 (stack) * output_channel\n",
    "        dim_size = (((input_shape[-1]-8)/4 + 1)-4)/2+1\n",
    "        self.layer3 = nn.Linear(int((dim_size)**2 * 4 * 64), 256)\n",
    "        self.output = nn.Linear(256, n_actions) \n",
    "        \n",
    "    def forward(self, x):\n",
    "        x = F.relu(self.layer1(x))\n",
    "        x = F.relu(self.layer2(x))\n",
    "        x = nn.Flatten(x)\n",
    "        x = F.relu(self.layer3(x))\n",
    "        x = F.relu(self.output(x))"
   ]
  },
  {
   "cell_type": "markdown",
   "metadata": {},
   "source": [
    "### Prepare environment"
   ]
  },
  {
   "cell_type": "code",
   "execution_count": 42,
   "metadata": {
    "scrolled": true
   },
   "outputs": [
    {
     "name": "stdout",
     "output_type": "stream",
     "text": [
      "Observation shape:  (4, 84, 84, 1)\n"
     ]
    },
    {
     "data": {
      "image/png": "[encoded data removed]",
      "text/plain": [
       "<Figure size 1000x1000 with 4 Axes>"
      ]
     },
     "metadata": {},
     "output_type": "display_data"
    }
   ],
   "source": [
    "from gym.wrappers import GrayScaleObservation, ResizeObservation, FrameStack\n",
    "from gym.utils.env_checker import check_env\n",
    "\n",
    "def generate_env(env_name):\n",
    "    env = gym.make(env_name)\n",
    "    # gray scale frame\n",
    "    env = GrayScaleObservation(env, keep_dim=False)\n",
    "    # resize frame to 84×84 image\n",
    "    env = ResizeObservation(env, (84, 84))\n",
    "    # stack 4 frames (equivalent to what phi does in paper) \n",
    "    env = FrameStack(env, num_stack=4)\n",
    "    \n",
    "    return env\n",
    "    \n",
    "env = generate_env(\"Breakout-v4\")\n",
    "env.reset()\n",
    "observation, reward, done, _ = env.step(env.action_space.sample())\n",
    "print(\"Observation shape: \", env.observation_space.shape)\n",
    "\n",
    "# visualize frames in each step \n",
    "_, axs = plt.subplots(1, 4, figsize=(10,10))\n",
    "for i, image in enumerate(observation):\n",
    "    axs[i].imshow(image, cmap=plt.cm.binary)\n",
    "plt.show()"
   ]
  },
  {
   "cell_type": "markdown",
   "metadata": {},
   "source": [
    "### Function to determine action"
   ]
  },
  {
   "cell_type": "code",
   "execution_count": 61,
   "metadata": {},
   "outputs": [],
   "source": [
    "import random\n",
    "\n",
    "def choose_action(model, state, epsilon=0.1):\n",
    "    if random.random()<epsilon: #exploration\n",
    "        return env.action_space.sample()\n",
    "    else:\n",
    "        # predict\n",
    "        pred = model.forward(state)\n",
    "        return env.action_space(torch.argmax(pred))"
   ]
  },
  {
   "cell_type": "markdown",
   "metadata": {},
   "source": [
    "### Hyper parameters"
   ]
  },
  {
   "cell_type": "code",
   "execution_count": 62,
   "metadata": {},
   "outputs": [],
   "source": [
    "LEARNING_RATE = 0.1\n",
    "REPLAY_LEN = 1000000\n",
    "BATCH_SIZE = 32\n",
    "EPISODES = 1000\n",
    "DISCOUNT = 0.7 #aka gamma in Bellman's equation\n",
    "SAVE_FREQ = 100\n",
    "EPSILON=0.1"
   ]
  },
  {
   "cell_type": "markdown",
   "metadata": {},
   "source": [
    "### Setting up various variables"
   ]
  },
  {
   "cell_type": "code",
   "execution_count": 63,
   "metadata": {},
   "outputs": [],
   "source": [
    "model = DQN_model(env.observation_space.shape, env.action_space.n)\n",
    "optimizer = optim.SGD(model.parameters(), lr=LEARNING_RATE)\n",
    "# loss_fn = nn.MSELoss()\n",
    "def loss_fn(model, replay_memory, batch_size, discount):\n",
    "    batch = replay_memory.sample(batch_size)\n",
    "    \n",
    "#     convert to dataframe for easy access\n",
    "    batch_df = pd.dataframe(batch, columns=Experience._fields)\n",
    "    \n",
    "    # Tensor-ify state, action, reward, successor, done (use torch tensor to have grad)\n",
    "    state = torch.Tensor(batch_df[\"state\"])\n",
    "    action = torch.Tensor(batch_df[\"action\"])\n",
    "    reward = torch.Tensor(batch_df[\"reward\"])\n",
    "    successor = torch.Tensor(batch_df[\"successor\"])\n",
    "    done = torch.Tensor(batch_df[\"done\"])\n",
    "\n",
    "    # use model to get old qs and new qs\n",
    "    old_qs = model.forward(state)\n",
    "    new_qs = model.forward(successor)\n",
    "    \n",
    "    # compute expected qs\n",
    "    expected_qs = (reward + gamma*new_qs) if not done else reward\n",
    "    \n",
    "    # compute loss\n",
    "    loss = (old_qs - expected_qs).pow(2).mean()\n",
    "    return loss\n",
    "    \n",
    "# episode count\n",
    "episodes = []\n",
    "losses = []\n",
    "reward = []\n",
    "\n",
    "# build env\n",
    "env = generate_env(\"Breakout-v4\")\n",
    "\n",
    "# Initialize replay memory with len of replay buffer\n",
    "curr_state, _ = env.reset()\n",
    "replay_memory = ReplayMemory(capacity=REPLAY_LEN)\n",
    "for i in range(batch_size):\n",
    "    action = env.action_space.sample()\n",
    "    observation, reward, done, _ = env.step(action)\n",
    "    \n",
    "    exp = Experience(curr_state, action, reward, observation, done)\n",
    "    replay_memory.push(exp)\n",
    "    \n",
    "    # update curr state\n",
    "    curr_state = observation"
   ]
  },
  {
   "cell_type": "markdown",
   "metadata": {},
   "source": [
    "### Training process"
   ]
  },
  {
   "cell_type": "code",
   "execution_count": 64,
   "metadata": {},
   "outputs": [],
   "source": [
    "# main training loop\n",
    "for i in range(EPISODES):\n",
    "    curr_state, _ = env.reset()\n",
    "    \n",
    "    while True:\n",
    "        action = choose_action(model, curr_state, epsilon=EPSILON)\n",
    "        # execute action\n",
    "        observation, reward, done, _ = env.step(action)\n",
    "        # save observation\n",
    "        exp = Experience(curr_state, action, reward, observation, done)\n",
    "        replay_memory.push(exp)\n",
    "        \n",
    "        # sample and compute loss\n",
    "        loss = loss_fn(model, replay_memory, BATCH_SIZE, DISCOUNT)\n",
    "        \n",
    "        # zero out gradient before backward pass\n",
    "        optimizer.zero_grad()\n",
    "        loss.backward()\n",
    "        optimizer.step()\n",
    "        \n",
    "        if done: \n",
    "            curr_state, _ = env.reset()\n",
    "            # finish an episode\n",
    "            break"
   ]
  },
  {
   "cell_type": "markdown",
   "metadata": {},
   "source": [
    "### Plot loss"
   ]
  },
  {
   "cell_type": "code",
   "execution_count": null,
   "metadata": {},
   "outputs": [],
   "source": [
    "plt.plot(episodes, reward)"
   ]
  },
  {
   "cell_type": "markdown",
   "metadata": {},
   "source": [
    "### Save model"
   ]
  },
  {
   "cell_type": "code",
   "execution_count": null,
   "metadata": {},
   "outputs": [],
   "source": [
    "with open('dqn_model.pt', 'wb') as f:\n",
    "    save(model.state_dict(), f)"
   ]
  }
 ],
 "metadata": {
  "kernelspec": {
   "display_name": "pytorch",
   "language": "python",
   "name": "pytorch"
  },
  "language_info": {
   "codemirror_mode": {
    "name": "ipython",
    "version": 3
   },
   "file_extension": ".py",
   "mimetype": "text/x-python",
   "name": "python",
   "nbconvert_exporter": "python",
   "pygments_lexer": "ipython3",
   "version": "3.9.15"
  }
 },
 "nbformat": 4,
 "nbformat_minor": 2
}
